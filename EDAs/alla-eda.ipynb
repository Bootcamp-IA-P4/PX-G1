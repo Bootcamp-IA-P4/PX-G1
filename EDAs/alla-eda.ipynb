{
 "cells": [
  {
   "cell_type": "code",
   "execution_count": null,
   "id": "0",
   "metadata": {},
   "outputs": [],
   "source": [
    "import pandas as pd\n",
    "\n",
    "df = pd.read_csv(\"../data/youtoxic_english_1000.csv\")\n",
    "\n",
    "df.head()"
   ]
  },
  {
   "cell_type": "code",
   "execution_count": null,
   "id": "1",
   "metadata": {},
   "outputs": [],
   "source": [
    "df.info()"
   ]
  },
  {
   "cell_type": "code",
   "execution_count": null,
   "id": "2",
   "metadata": {},
   "outputs": [],
   "source": [
    "for col in df.columns:\n",
    "    print(f\"Columna: {col}\")\n",
    "    print(f\"Valores únicos: {df[col].nunique()}\")\n",
    "    print(f\"Valores nulos: {df[col].isnull().sum()}\")\n",
    "    print(\"------------------------\")"
   ]
  },
  {
   "cell_type": "code",
   "execution_count": null,
   "id": "3",
   "metadata": {},
   "outputs": [],
   "source": [
    "df.duplicated().sum()"
   ]
  },
  {
   "cell_type": "code",
   "execution_count": null,
   "id": "4",
   "metadata": {},
   "outputs": [],
   "source": [
    "# ver si hay duplicados basados en la columna \"Text\"\n",
    "df[df.duplicated(subset=[\"Text\"])]"
   ]
  },
  {
   "cell_type": "code",
   "execution_count": null,
   "id": "5",
   "metadata": {},
   "outputs": [],
   "source": [
    "# eliminamos duplicados basados en la columna \"Text\" dejando el primero\n",
    "df = df.drop_duplicates(subset=[\"Text\"], keep=\"first\")"
   ]
  },
  {
   "cell_type": "code",
   "execution_count": null,
   "id": "6",
   "metadata": {},
   "outputs": [],
   "source": [
    "# Distribución de etiquetas binarias\n",
    "import seaborn as sns\n",
    "import matplotlib.pyplot as plt\n",
    "\n",
    "binary_columns = [\"IsToxic\", \"IsAbusive\", \"IsThreat\", \"IsProvocative\", \"IsObscene\", \"IsHatespeech\", \"IsRacist\", \"IsNationalist\", \"IsSexist\", \"IsHomophobic\", \"IsReligiousHate\",\t\"IsRadicalism\"]\n",
    "\n",
    "for col in binary_columns:\n",
    "    sns.countplot(x=col, data=df)\n",
    "    plt.title(f'Distribución de {col}')\n",
    "    plt.show()\n"
   ]
  },
  {
   "cell_type": "code",
   "execution_count": null,
   "id": "7",
   "metadata": {},
   "outputs": [],
   "source": [
    "import seaborn as sns\n",
    "import matplotlib.pyplot as plt\n",
    "import numpy as np\n",
    "\n",
    "# Calcular matriz de correlación\n",
    "corr = df[binary_columns].corr()\n",
    "\n",
    "# Crear máscara para ocultar la mitad superior\n",
    "mask = np.triu(np.ones_like(corr, dtype=bool))\n",
    "\n",
    "# Plot del heatmap\n",
    "plt.figure(figsize=(8, 6))\n",
    "sns.heatmap(corr, mask=mask, annot=True, cmap=\"coolwarm\", fmt=\".2f\", square=True, linewidths=.5, cbar_kws={\"shrink\": .8})\n",
    "plt.title(\"Correlación entre etiquetas\")\n",
    "plt.tight_layout()\n",
    "plt.show()\n"
   ]
  },
  {
   "cell_type": "markdown",
   "id": "8",
   "metadata": {},
   "source": [
    "Decido borrar las columnas:\n",
    "- **IsHomophobic:** Porque solo tiene una clase\n",
    "- **IsRadicalism:** Porque solo tiene una clase\n",
    "- **IsSexist:** Porque tiene muy poca (0.00 - 0.09) correlación con otras etiquetas"
   ]
  },
  {
   "cell_type": "code",
   "execution_count": null,
   "id": "9",
   "metadata": {},
   "outputs": [],
   "source": [
    "df = df.drop(columns=[\"IsHomophobic\", \"IsRadicalism\", \"IsSexist\"])"
   ]
  },
  {
   "cell_type": "code",
   "execution_count": null,
   "id": "10",
   "metadata": {},
   "outputs": [],
   "source": [
    "df.head()"
   ]
  }
 ],
 "metadata": {
  "kernelspec": {
   "display_name": ".venv",
   "language": "python",
   "name": "python3"
  },
  "language_info": {
   "codemirror_mode": {
    "name": "ipython",
    "version": 3
   },
   "file_extension": ".py",
   "mimetype": "text/x-python",
   "name": "python",
   "nbconvert_exporter": "python",
   "pygments_lexer": "ipython3",
   "version": "3.13.3"
  }
 },
 "nbformat": 4,
 "nbformat_minor": 5
}
