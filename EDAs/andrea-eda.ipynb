{
 "cells": [
  {
   "cell_type": "markdown",
   "id": "0",
   "metadata": {},
   "source": [
    "# 📊 Análisis Exploratorio de Datos (EDA) - Comentarios Tóxicos de YouTube\n",
    "\n",
    "Este notebook contiene el análisis exploratorio de datos para el proyecto de detección de comentarios de odio en YouTube.\n",
    "\n",
    "## 📋 Objetivos del EDA:\n",
    " - Explorar la estructura y calidad de los datos\n",
    " - Analizar la distribución de las diferentes categorías de toxicidad\n",
    " - Identificar patrones en los comentarios tóxicos vs no tóxicos\n",
    " - Detectar posibles desequilibrios en las clases\n",
    " - Análisis de texto: longitud, palabras más frecuentes, etc.\n",
    " - Identificar insights para el preprocesamiento y modelado"
   ]
  },
  {
   "cell_type": "code",
   "execution_count": null,
   "id": "1",
   "metadata": {},
   "outputs": [],
   "source": [
    "# Importación de librerías\n",
    "import pandas as pd\n",
    "import numpy as np\n",
    "import matplotlib.pyplot as plt\n",
    "import seaborn as sns\n",
    "import plotly.express as px\n",
    "import plotly.graph_objects as go\n",
    "from plotly.subplots import make_subplots\n",
    "import warnings\n",
    "warnings.filterwarnings('ignore')"
   ]
  },
  {
   "cell_type": "code",
   "execution_count": null,
   "id": "2",
   "metadata": {},
   "outputs": [],
   "source": [
    "# Configuración de visualización\n",
    "plt.style.use('default')\n",
    "sns.set_palette(\"husl\")\n",
    "pd.set_option('display.max_columns', None)\n",
    "pd.set_option('display.max_rows', 100)"
   ]
  },
  {
   "cell_type": "markdown",
   "id": "3",
   "metadata": {},
   "source": [
    "## 1. Carga y Exploración Inicial de los Datos"
   ]
  },
  {
   "cell_type": "code",
   "execution_count": null,
   "id": "4",
   "metadata": {},
   "outputs": [],
   "source": [
    "df = pd.read_csv('../data/youtoxic_english_1000.csv')\n",
    "\n",
    "print(\"🔍 INFORMACIÓN BÁSICA DEL DATASET\")\n",
    "print(\"=\"*50)\n",
    "print(f\"📊 Forma del dataset: {df.shape}\")\n",
    "print(f\"📝 Número de comentarios: {df.shape[0]:,}\")\n",
    "print(f\"🏷️ Número de características: {df.shape[1]}\")"
   ]
  },
  {
   "cell_type": "code",
   "execution_count": null,
   "id": "5",
   "metadata": {},
   "outputs": [],
   "source": [
    "print(\"\\n📋 PRIMERAS 5 FILAS DEL DATASET:\")\n",
    "print(\"=\"*50)\n",
    "df.head()"
   ]
  },
  {
   "cell_type": "code",
   "execution_count": null,
   "id": "6",
   "metadata": {},
   "outputs": [],
   "source": [
    "print(\"\\n📊 INFORMACIÓN GENERAL:\")\n",
    "print(\"=\"*50)\n",
    "df.info()"
   ]
  },
  {
   "cell_type": "code",
   "execution_count": null,
   "id": "7",
   "metadata": {},
   "outputs": [],
   "source": [
    "print(\"\\n📈 ESTADÍSTICAS DESCRIPTIVAS:\")\n",
    "print(\"=\"*50)\n",
    "df.describe()"
   ]
  },
  {
   "cell_type": "markdown",
   "id": "8",
   "metadata": {},
   "source": [
    "## 2. Análisis de las Etiquetas de Toxicidad"
   ]
  },
  {
   "cell_type": "code",
   "execution_count": null,
   "id": "9",
   "metadata": {},
   "outputs": [],
   "source": [
    "# Identificar las columnas de etiquetas (excluyendo metadatos y columnas con información insuficiente)\n",
    "label_columns = [col for col in df.columns if col not in ['CommentId', 'VideoId', 'Text', 'index']]\n",
    "\n",
    "# Identificar etiquetas con datos insuficientes para análisis\n",
    "insufficient_labels = []\n",
    "for col in label_columns:\n",
    "    true_count = (df[col] == True).sum()\n",
    "    if true_count <= 1:  # Menos de 2 casos positivos\n",
    "        insufficient_labels.append(col)\n",
    "\n",
    "# Filtrar etiquetas con datos suficientes para análisis\n",
    "analysis_labels = [col for col in label_columns if col not in insufficient_labels]\n",
    "\n",
    "print(f\"🔍 Etiquetas identificadas: {label_columns}\")\n",
    "print(f\"🔍 Etiquetas con datos insuficientes (≤1 casos): {insufficient_labels}\")\n",
    "print(f\"🔍 Etiquetas para análisis: {analysis_labels}\")\n",
    "print(f\"🔍 Total de etiquetas para análisis: {len(analysis_labels)}\")"
   ]
  },
  {
   "cell_type": "code",
   "execution_count": null,
   "id": "10",
   "metadata": {},
   "outputs": [],
   "source": [
    "# Análisis de distribución de cada etiqueta\n",
    "print(\"\\n📊 DISTRIBUCIÓN DE ETIQUETAS:\")\n",
    "print(\"=\"*50)\n",
    "\n",
    "label_stats = {}\n",
    "for col in label_columns:\n",
    "    true_count = (df[col] == True).sum()\n",
    "    false_count = (df[col] == False).sum()\n",
    "    true_pct = (true_count / len(df)) * 100\n",
    "    \n",
    "    label_stats[col] = {\n",
    "        'True': true_count,\n",
    "        'False': false_count,\n",
    "        'True_pct': true_pct\n",
    "    }\n",
    "    \n",
    "    print(f\"{col}:\")\n",
    "    print(f\"  ✅ True: {true_count:,} ({true_pct:.2f}%)\")\n",
    "    print(f\"  ❌ False: {false_count:,} ({100-true_pct:.2f}%)\")\n",
    "    print()\n",
    "\n",
    "if insufficient_labels:\n",
    "    print(\"⚠️ ETIQUETAS EXCLUIDAS DEL ANÁLISIS:\")\n",
    "    print(\"=\"*50)\n",
    "    for col in insufficient_labels:\n",
    "        true_count = (df[col] == True).sum()\n",
    "        print(f\"{col}: Solo {true_count} caso(s) positivo(s) - Insuficiente para análisis\")\n"
   ]
  },
  {
   "cell_type": "code",
   "execution_count": null,
   "id": "11",
   "metadata": {},
   "outputs": [],
   "source": [
    "# Crear un gráfico de barras horizontal para mejor visualización\n",
    "plt.figure(figsize=(12, 8))\n",
    "\n",
    "# Preparar datos para el gráfico\n",
    "labels = []\n",
    "true_counts = []\n",
    "percentages = []\n",
    "\n",
    "for col in label_columns:\n",
    "    labels.append(col.replace('Is', '').replace('is', ''))\n",
    "    true_count = (df[col] == True).sum()\n",
    "    true_counts.append(true_count)\n",
    "    percentages.append((true_count / len(df)) * 100)\n",
    "\n",
    "# Crear gráfico de barras horizontal\n",
    "bars = plt.barh(labels, true_counts, color=plt.cm.Reds(np.linspace(0.3, 0.8, len(labels))))\n",
    "\n",
    "# Añadir etiquetas con porcentajes\n",
    "for i, (count, pct) in enumerate(zip(true_counts, percentages)):\n",
    "    plt.text(count + 5, i, f'{count} ({pct:.1f}%)', \n",
    "             va='center', fontweight='bold', fontsize=10)\n",
    "\n",
    "plt.xlabel('Número de Comentarios Tóxicos', fontsize=12, fontweight='bold')\n",
    "plt.title('📊 Distribución de Comentarios Tóxicos por Categoría', fontsize=14, fontweight='bold')\n",
    "plt.grid(axis='x', alpha=0.3)\n",
    "plt.tight_layout()\n",
    "plt.show()"
   ]
  },
  {
   "cell_type": "markdown",
   "id": "12",
   "metadata": {},
   "source": [
    "## 3. Análisis de Correlaciones entre Etiquetas"
   ]
  },
  {
   "cell_type": "code",
   "execution_count": null,
   "id": "13",
   "metadata": {},
   "outputs": [],
   "source": [
    "# Matriz de correlación entre etiquetas\n",
    "correlation_matrix = df[analysis_labels].corr()\n",
    "\n",
    "# Visualizar matriz de correlación\n",
    "sns.heatmap(correlation_matrix, annot=True, cmap='coolwarm', center=0)\n",
    "plt.title(\"Correlación entre tipos de toxicidad\")\n",
    "plt.show()"
   ]
  },
  {
   "cell_type": "code",
   "execution_count": null,
   "id": "14",
   "metadata": {},
   "outputs": [],
   "source": [
    "# Identificar correlaciones más altas\n",
    "print(\"🔗 CORRELACIONES MÁS ALTAS:\")\n",
    "print(\"=\"*50)\n",
    "\n",
    "# Obtener correlaciones sin la diagonal\n",
    "corr_pairs = []\n",
    "for i in range(len(correlation_matrix.columns)):\n",
    "    for j in range(i+1, len(correlation_matrix.columns)):\n",
    "        corr_pairs.append({\n",
    "            'Label1': correlation_matrix.columns[i],\n",
    "            'Label2': correlation_matrix.columns[j],\n",
    "            'Correlation': correlation_matrix.iloc[i, j]\n",
    "        })\n",
    "\n",
    "# Ordenar por correlación absoluta\n",
    "corr_df = pd.DataFrame(corr_pairs)\n",
    "corr_df['Abs_Correlation'] = corr_df['Correlation'].abs()\n",
    "corr_df = corr_df.sort_values('Abs_Correlation', ascending=False)\n",
    "\n",
    "print(\"Top 10 correlaciones más fuertes:\")\n",
    "for _, row in corr_df.head(10).iterrows():\n",
    "    print(f\"  {row['Label1']} ↔ {row['Label2']}: {row['Correlation']:.3f}\")"
   ]
  },
  {
   "cell_type": "markdown",
   "id": "15",
   "metadata": {},
   "source": [
    "## 4. Análisis de Texto"
   ]
  },
  {
   "cell_type": "code",
   "execution_count": null,
   "id": "16",
   "metadata": {},
   "outputs": [],
   "source": [
    "# Análisis básico de longitud de texto\n",
    "print(\"📝 ANÁLISIS DE LONGITUD DE COMENTARIOS:\")\n",
    "print(\"=\"*50)\n",
    "\n",
    "# Calcular estadísticas de longitud\n",
    "df['text_length'] = df['Text'].str.len()\n",
    "df['word_count'] = df['Text'].str.split().str.len()\n",
    "\n",
    "print(\"Estadísticas de longitud de caracteres:\")\n",
    "print(df['text_length'].describe())\n",
    "print(\"\\nEstadísticas de número de palabras:\")\n",
    "print(df['word_count'].describe())"
   ]
  },
  {
   "cell_type": "code",
   "execution_count": null,
   "id": "17",
   "metadata": {},
   "outputs": [],
   "source": [
    "# Visualización de distribución de longitudes\n",
    "fig, axes = plt.subplots(2, 2, figsize=(15, 10))\n",
    "\n",
    "# Distribución de longitud de caracteres\n",
    "axes[0,0].hist(df['text_length'], bins=50, alpha=0.7, color='skyblue', edgecolor='black')\n",
    "axes[0,0].set_title('📏 Distribución de Longitud de Caracteres')\n",
    "axes[0,0].set_xlabel('Número de Caracteres')\n",
    "axes[0,0].set_ylabel('Frecuencia')\n",
    "\n",
    "# Distribución de número de palabras\n",
    "axes[0,1].hist(df['word_count'], bins=50, alpha=0.7, color='lightgreen', edgecolor='black')\n",
    "axes[0,1].set_title('📝 Distribución de Número de Palabras')\n",
    "axes[0,1].set_xlabel('Número de Palabras')\n",
    "axes[0,1].set_ylabel('Frecuencia')\n",
    "\n",
    "# Boxplot de longitud por toxicidad general\n",
    "# Crear una columna de toxicidad general (si cualquier etiqueta es True)\n",
    "df['is_toxic'] = df[analysis_labels].any(axis=1)\n",
    "\n",
    "axes[1,0].boxplot([df[df['is_toxic'] == False]['text_length'], \n",
    "                   df[df['is_toxic'] == True]['text_length']], \n",
    "                  labels=['No Tóxico', 'Tóxico'])\n",
    "axes[1,0].set_title('📊 Longitud de Caracteres: Tóxico vs No Tóxico')\n",
    "axes[1,0].set_ylabel('Número de Caracteres')\n",
    "\n",
    "# Boxplot de palabras por toxicidad general\n",
    "axes[1,1].boxplot([df[df['is_toxic'] == False]['word_count'], \n",
    "                   df[df['is_toxic'] == True]['word_count']], \n",
    "                  labels=['No Tóxico', 'Tóxico'])\n",
    "axes[1,1].set_title('📊 Número de Palabras: Tóxico vs No Tóxico')\n",
    "axes[1,1].set_ylabel('Número de Palabras')\n",
    "\n",
    "plt.tight_layout()\n",
    "plt.show()"
   ]
  },
  {
   "cell_type": "code",
   "execution_count": null,
   "id": "18",
   "metadata": {},
   "outputs": [],
   "source": [
    "# Análisis de palabras más frecuentes\n",
    "from collections import Counter\n",
    "import re\n",
    "\n",
    "def clean_text_for_analysis(text):\n",
    "    \"\"\"Limpia el texto para análisis de frecuencia\"\"\"\n",
    "    # Convertir a minúsculas y eliminar caracteres especiales\n",
    "    text = re.sub(r'[^a-zA-Z\\s]', '', text.lower())\n",
    "    return text\n",
    "\n",
    "print(\"🔤 ANÁLISIS DE PALABRAS MÁS FRECUENTES:\")\n",
    "print(\"=\"*50)\n",
    "\n",
    "# Palabras más frecuentes en comentarios no tóxicos\n",
    "non_toxic_texts = df[df['is_toxic'] == False]['Text'].fillna('')\n",
    "non_toxic_words = []\n",
    "for text in non_toxic_texts:\n",
    "    non_toxic_words.extend(clean_text_for_analysis(text).split())\n",
    "\n",
    "# Palabras más frecuentes en comentarios tóxicos\n",
    "toxic_texts = df[df['is_toxic'] == True]['Text'].fillna('')\n",
    "toxic_words = []\n",
    "for text in toxic_texts:\n",
    "    toxic_words.extend(clean_text_for_analysis(text).split())\n",
    "\n",
    "# Filtrar palabras vacías comunes\n",
    "common_stopwords = {'the', 'a', 'an', 'and', 'or', 'but', 'in', 'on', 'at', 'to', 'for', 'of', 'with', 'by', 'is', 'are', 'was', 'were', 'be', 'been', 'being', 'have', 'has', 'had', 'do', 'does', 'did', 'will', 'would', 'could', 'should', 'may', 'might', 'must', 'can', 'i', 'you', 'he', 'she', 'it', 'we', 'they', 'me', 'him', 'her', 'us', 'them', 'my', 'your', 'his', 'her', 'its', 'our', 'their', 'this', 'that', 'these', 'those'}\n",
    "\n",
    "non_toxic_words = [word for word in non_toxic_words if word not in common_stopwords and len(word) > 2]\n",
    "toxic_words = [word for word in toxic_words if word not in common_stopwords and len(word) > 2]\n",
    "\n",
    "print(\"Top 15 palabras en comentarios NO TÓXICOS:\")\n",
    "non_toxic_freq = Counter(non_toxic_words).most_common(15)\n",
    "for word, count in non_toxic_freq:\n",
    "    print(f\"  {word}: {count}\")\n",
    "\n",
    "print(\"\\nTop 15 palabras en comentarios TÓXICOS:\")\n",
    "toxic_freq = Counter(toxic_words).most_common(15)\n",
    "for word, count in toxic_freq:\n",
    "    print(f\"  {word}: {count}\")\n"
   ]
  },
  {
   "cell_type": "markdown",
   "id": "19",
   "metadata": {},
   "source": [
    "## 5. Análisis de Desequilibrio de Clases"
   ]
  },
  {
   "cell_type": "code",
   "execution_count": null,
   "id": "20",
   "metadata": {},
   "outputs": [],
   "source": [
    "print(\"⚖️ ANÁLISIS DE DESEQUILIBRIO DE CLASES:\")\n",
    "print(\"=\"*50)\n",
    "\n",
    "# Análisis general de toxicidad\n",
    "toxic_count = df['is_toxic'].sum()\n",
    "non_toxic_count = len(df) - toxic_count\n",
    "toxic_ratio = toxic_count / len(df)\n",
    "\n",
    "print(f\"📊 Comentarios tóxicos: {toxic_count:,} ({toxic_ratio:.2%})\")\n",
    "print(f\"📊 Comentarios no tóxicos: {non_toxic_count:,} ({1-toxic_ratio:.2%})\")\n",
    "print(f\"📊 Ratio de desequilibrio: {non_toxic_count/toxic_count:.2f}:1\")\n",
    "\n",
    "# Análisis por cada etiqueta (solo las que se van a usar)\n",
    "print(\"\\n🔍 Desequilibrio por etiqueta (solo etiquetas válidas para análisis):\")\n",
    "for col in analysis_labels:\n",
    "    positive_count = (df[col] == True).sum()\n",
    "    negative_count = (df[col] == False).sum()\n",
    "    ratio = negative_count / positive_count if positive_count > 0 else float('inf')\n",
    "    print(f\"  {col}: {ratio:.2f}:1 (False:True)\")"
   ]
  },
  {
   "cell_type": "markdown",
   "id": "21",
   "metadata": {},
   "source": [
    "## 6. 🔍 Análisis de Comentarios Multi-etiqueta"
   ]
  },
  {
   "cell_type": "code",
   "execution_count": null,
   "id": "22",
   "metadata": {},
   "outputs": [],
   "source": [
    "print(\"🏷️ ANÁLISIS DE COMENTARIOS MULTI-ETIQUETA:\")\n",
    "print(\"=\"*50)\n",
    "\n",
    "# Contar cuántas etiquetas positivas tiene cada comentario\n",
    "df['num_toxic_labels'] = df[analysis_labels].sum(axis=1)\n",
    "\n",
    "# Distribución de número de etiquetas por comentario\n",
    "label_distribution = df['num_toxic_labels'].value_counts().sort_index()\n",
    "print(\"Distribución de número de etiquetas tóxicas por comentario:\")\n",
    "for num_labels, count in label_distribution.items():\n",
    "    percentage = (count / len(df)) * 100\n",
    "    print(f\"  {num_labels} etiquetas: {count:,} comentarios ({percentage:.2f}%)\")"
   ]
  },
  {
   "cell_type": "code",
   "execution_count": null,
   "id": "23",
   "metadata": {},
   "outputs": [],
   "source": [
    "# Visualización de comentarios multi-etiqueta\n",
    "plt.figure(figsize=(12, 6))\n",
    "\n",
    "# Gráfico de barras\n",
    "bars = plt.bar(label_distribution.index, label_distribution.values, \n",
    "               color=plt.cm.Spectral(np.linspace(0, 1, len(label_distribution))))\n",
    "\n",
    "# Añadir etiquetas con porcentajes\n",
    "for bar, count in zip(bars, label_distribution.values):\n",
    "    height = bar.get_height()\n",
    "    percentage = (count / len(df)) * 100\n",
    "    plt.text(bar.get_x() + bar.get_width()/2., height + 5,\n",
    "             f'{count}\\n({percentage:.1f}%)', \n",
    "             ha='center', va='bottom', fontweight='bold')\n",
    "\n",
    "plt.xlabel('Número de Etiquetas Tóxicas por Comentario', fontsize=12, fontweight='bold')\n",
    "plt.ylabel('Número de Comentarios', fontsize=12, fontweight='bold')\n",
    "plt.title('🏷️ Distribución de Comentarios Multi-etiqueta', fontsize=14, fontweight='bold')\n",
    "plt.grid(axis='y', alpha=0.3)\n",
    "plt.tight_layout()\n",
    "plt.show()"
   ]
  },
  {
   "cell_type": "markdown",
   "id": "24",
   "metadata": {},
   "source": [
    "## 7. Resumen de Insights y Recomendaciones"
   ]
  },
  {
   "cell_type": "code",
   "execution_count": null,
   "id": "25",
   "metadata": {},
   "outputs": [],
   "source": [
    "print(\"🔍 INSIGHTS PRINCIPALES DEL EDA:\")\n",
    "print(\"=\"*60)\n",
    "\n",
    "print(\"\\n🔍 1. ESTRUCTURA DE DATOS:\")\n",
    "print(f\"   • Dataset con {len(df):,} comentarios y {len(analysis_labels)} etiquetas de toxicidad válidas\")\n",
    "print(f\"   • Etiquetas válidas: {', '.join(analysis_labels)}\")\n",
    "if insufficient_labels:\n",
    "    print(f\"   • Etiquetas excluidas por datos insuficientes: {', '.join(insufficient_labels)}\")\n",
    "\n",
    "print(\"\\n⚖️ 2. DESEQUILIBRIO DE CLASES:\")\n",
    "print(f\"   • {toxic_ratio:.1%} de comentarios son tóxicos en general\")\n",
    "print(\"   • Todas las etiquetas muestran fuerte desequilibrio (mayoría de casos negativos)\")\n",
    "print(\"   • Esto requerirá técnicas de balanceamiento o métricas especiales\")\n",
    "\n",
    "print(\"\\n🔍 3. CORRELACIONES:\")\n",
    "if len(corr_df) > 0:\n",
    "    strongest_corr = corr_df.iloc[0]\n",
    "    print(f\"   • Correlación más fuerte: {strongest_corr['Label1']} ↔ {strongest_corr['Label2']} ({strongest_corr['Correlation']:.3f})\")\n",
    "print(\"   • Algunas etiquetas están correlacionadas, considerar esto en el modelado\")\n",
    "\n",
    "print(\"\\n🔍 4. CARACTERÍSTICAS DEL TEXTO:\")\n",
    "print(f\"   • Longitud promedio: {df['text_length'].mean():.0f} caracteres\")\n",
    "print(f\"   • Número promedio de palabras: {df['word_count'].mean():.1f}\")\n",
    "multi_label_pct = (df['num_toxic_labels'] > 1).sum() / len(df) * 100\n",
    "print(f\"   • {multi_label_pct:.1f}% de comentarios tóxicos tienen múltiples etiquetas\")\n",
    "\n",
    "print(\"\\n🔍 5. RECOMENDACIONES PARA EL MODELADO:\")\n",
    "print(\"   • Usar métricas apropiadas para datos desequilibrados (F1, ROC-AUC, Precision-Recall)\")\n",
    "print(\"   • Considerar técnicas de balanceamiento (SMOTE, class_weight, etc.)\")\n",
    "print(\"   • Implementar validación estratificada\")\n",
    "print(\"   • Evaluar modelos multi-etiqueta vs binarios independientes\")\n",
    "print(\"   • Preprocesar texto: lowercasing, eliminación de caracteres especiales, etc.\")\n",
    "print(\"   • Considerar features de longitud de texto como variables adicionales\")\n",
    "if insufficient_labels:\n",
    "    print(f\"   • Excluir del modelado las etiquetas: {', '.join(insufficient_labels)} por falta de datos\")\n",
    "\n",
    "# Guardar algunas estadísticas clave para uso posterior\n",
    "stats_summary = {\n",
    "    'total_comments': len(df),\n",
    "    'toxic_ratio': toxic_ratio,\n",
    "    'valid_label_columns': analysis_labels,\n",
    "    'excluded_labels': insufficient_labels,\n",
    "    'avg_text_length': df['text_length'].mean(),\n",
    "    'avg_word_count': df['word_count'].mean(),\n",
    "    'multi_label_ratio': multi_label_pct / 100\n",
    "}\n",
    "\n",
    "print(f\"\\n🔍 Estadísticas guardadas para referencia futura:\")\n",
    "for key, value in stats_summary.items():\n",
    "    print(f\"   {key}: {value}\")\n",
    "\n",
    "print(\"\\n🔍 EDA COMPLETADO - Listo para la fase de preprocesamiento y modelado! 🔍\")"
   ]
  },
  {
   "cell_type": "code",
   "execution_count": null,
   "id": "26",
   "metadata": {},
   "outputs": [],
   "source": []
  }
 ],
 "metadata": {
  "kernelspec": {
   "display_name": ".venv",
   "language": "python",
   "name": "python3"
  },
  "language_info": {
   "codemirror_mode": {
    "name": "ipython",
    "version": 3
   },
   "file_extension": ".py",
   "mimetype": "text/x-python",
   "name": "python",
   "nbconvert_exporter": "python",
   "pygments_lexer": "ipython3",
   "version": "3.13.3"
  }
 },
 "nbformat": 4,
 "nbformat_minor": 5
}
