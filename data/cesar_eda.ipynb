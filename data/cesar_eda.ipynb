{
 "cells": [
  {
   "cell_type": "code",
   "execution_count": 8,
   "id": "adbb030f",
   "metadata": {},
   "outputs": [
    {
     "data": {
      "application/vnd.microsoft.datawrangler.viewer.v0+json": {
       "columns": [
        {
         "name": "index",
         "rawType": "int64",
         "type": "integer"
        },
        {
         "name": "CommentId",
         "rawType": "object",
         "type": "string"
        },
        {
         "name": "VideoId",
         "rawType": "object",
         "type": "string"
        },
        {
         "name": "Text",
         "rawType": "object",
         "type": "string"
        },
        {
         "name": "IsToxic",
         "rawType": "bool",
         "type": "boolean"
        },
        {
         "name": "IsAbusive",
         "rawType": "bool",
         "type": "boolean"
        },
        {
         "name": "IsThreat",
         "rawType": "bool",
         "type": "boolean"
        },
        {
         "name": "IsProvocative",
         "rawType": "bool",
         "type": "boolean"
        },
        {
         "name": "IsObscene",
         "rawType": "bool",
         "type": "boolean"
        },
        {
         "name": "IsHatespeech",
         "rawType": "bool",
         "type": "boolean"
        },
        {
         "name": "IsRacist",
         "rawType": "bool",
         "type": "boolean"
        },
        {
         "name": "IsNationalist",
         "rawType": "bool",
         "type": "boolean"
        },
        {
         "name": "IsSexist",
         "rawType": "bool",
         "type": "boolean"
        },
        {
         "name": "IsHomophobic",
         "rawType": "bool",
         "type": "boolean"
        },
        {
         "name": "IsReligiousHate",
         "rawType": "bool",
         "type": "boolean"
        },
        {
         "name": "IsRadicalism",
         "rawType": "bool",
         "type": "boolean"
        }
       ],
       "ref": "4576f1e9-172f-4cae-ba7d-9a28bf88a32e",
       "rows": [
        [
         "0",
         "Ugg2KwwX0V8-aXgCoAEC",
         "04kJtp6pVXI",
         "If only people would just take a step back and not make this case about them, because it wasn't about anyone except the two people in that situation.  To lump yourself into this mess and take matters into your own hands makes these kinds of protests selfish and without rational thought and investigation.  The guy in this video is heavily emotional and hyped up and wants to be heard, and when he gets heard he just presses more and more.  He was never out to have a reasonable discussion.  Kudos to the Smerconish for keeping level the whole time and letting Masri make himself out to be a fool.  How dare he and those that tore that city down in protest make this about themselves and to dishonor the entire incident with their own hate.  By the way, since when did police brutality become an epidemic?  I wish everyone would just stop pretending like they were there and they knew EXACTLY what was going on, because there's no measurable amount of people that honestly witnessed this incident, so none of us have a clue on which way this whole issue should have swung.  The grand jury were the most informed, we have to trust the majority rule was the right course of action and let it be.  Also, thank you to the 99.999% of police officers in America that actually serve & protect, even if you're a bit of a jerk when you pull me over, I respect your job and know that someone has to do it and that many people are going to pout about being held accountable to their actions.  People hate police until they need an officer or two around in an emergency.",
         "False",
         "False",
         "False",
         "False",
         "False",
         "False",
         "False",
         "False",
         "False",
         "False",
         "False",
         "False"
        ],
        [
         "1",
         "Ugg2s5AzSPioEXgCoAEC",
         "04kJtp6pVXI",
         "Law enforcement is not trained to shoot to apprehend.  They are trained to shoot to kill.  And I thank Wilson for killing that punk bitch.",
         "True",
         "True",
         "False",
         "False",
         "False",
         "False",
         "False",
         "False",
         "False",
         "False",
         "False",
         "False"
        ],
        [
         "2",
         "Ugg3dWTOxryFfHgCoAEC",
         "04kJtp6pVXI",
         "\nDont you reckon them 'black lives matter' banners being held by white cunts is  kinda patronizing and ironically racist. could they have not come up with somethin better.. or is it just what white folks do to give them selves pride. 'ooo look at me im being nice for the black people' why does it always have to be about race actually the whole world is pussyfootin around for fear of being racist. its fuckin daft man.",
         "True",
         "True",
         "False",
         "False",
         "True",
         "False",
         "False",
         "False",
         "False",
         "False",
         "False",
         "False"
        ],
        [
         "3",
         "Ugg7Gd006w1MPngCoAEC",
         "04kJtp6pVXI",
         "There are a very large number of people who do not like police officers. They are called Criminals and its the reason we have police officers. The fact that Criminals do not like police officers is a testament to the good work that police officers do in protecting the public. When our children or our family are in danger, we do not hessitate to call for help, and we call the Police. Its about time people stopped complaining and started to give the Police some respect for the hard work and dedication that often requires them to put their lives on the line, to serve the public.",
         "False",
         "False",
         "False",
         "False",
         "False",
         "False",
         "False",
         "False",
         "False",
         "False",
         "False",
         "False"
        ],
        [
         "4",
         "Ugg8FfTbbNF8IngCoAEC",
         "04kJtp6pVXI",
         "The Arab dude is absolutely right, he should have not been shot 6 extra time. Shoot him once if hes attacking you and that would stop his attack. Shoot him twice if he's still attacking you, but six times? That is shoot to kill in my opinion. ",
         "False",
         "False",
         "False",
         "False",
         "False",
         "False",
         "False",
         "False",
         "False",
         "False",
         "False",
         "False"
        ]
       ],
       "shape": {
        "columns": 15,
        "rows": 5
       }
      },
      "text/html": [
       "<div>\n",
       "<style scoped>\n",
       "    .dataframe tbody tr th:only-of-type {\n",
       "        vertical-align: middle;\n",
       "    }\n",
       "\n",
       "    .dataframe tbody tr th {\n",
       "        vertical-align: top;\n",
       "    }\n",
       "\n",
       "    .dataframe thead th {\n",
       "        text-align: right;\n",
       "    }\n",
       "</style>\n",
       "<table border=\"1\" class=\"dataframe\">\n",
       "  <thead>\n",
       "    <tr style=\"text-align: right;\">\n",
       "      <th></th>\n",
       "      <th>CommentId</th>\n",
       "      <th>VideoId</th>\n",
       "      <th>Text</th>\n",
       "      <th>IsToxic</th>\n",
       "      <th>IsAbusive</th>\n",
       "      <th>IsThreat</th>\n",
       "      <th>IsProvocative</th>\n",
       "      <th>IsObscene</th>\n",
       "      <th>IsHatespeech</th>\n",
       "      <th>IsRacist</th>\n",
       "      <th>IsNationalist</th>\n",
       "      <th>IsSexist</th>\n",
       "      <th>IsHomophobic</th>\n",
       "      <th>IsReligiousHate</th>\n",
       "      <th>IsRadicalism</th>\n",
       "    </tr>\n",
       "  </thead>\n",
       "  <tbody>\n",
       "    <tr>\n",
       "      <th>0</th>\n",
       "      <td>Ugg2KwwX0V8-aXgCoAEC</td>\n",
       "      <td>04kJtp6pVXI</td>\n",
       "      <td>If only people would just take a step back and...</td>\n",
       "      <td>False</td>\n",
       "      <td>False</td>\n",
       "      <td>False</td>\n",
       "      <td>False</td>\n",
       "      <td>False</td>\n",
       "      <td>False</td>\n",
       "      <td>False</td>\n",
       "      <td>False</td>\n",
       "      <td>False</td>\n",
       "      <td>False</td>\n",
       "      <td>False</td>\n",
       "      <td>False</td>\n",
       "    </tr>\n",
       "    <tr>\n",
       "      <th>1</th>\n",
       "      <td>Ugg2s5AzSPioEXgCoAEC</td>\n",
       "      <td>04kJtp6pVXI</td>\n",
       "      <td>Law enforcement is not trained to shoot to app...</td>\n",
       "      <td>True</td>\n",
       "      <td>True</td>\n",
       "      <td>False</td>\n",
       "      <td>False</td>\n",
       "      <td>False</td>\n",
       "      <td>False</td>\n",
       "      <td>False</td>\n",
       "      <td>False</td>\n",
       "      <td>False</td>\n",
       "      <td>False</td>\n",
       "      <td>False</td>\n",
       "      <td>False</td>\n",
       "    </tr>\n",
       "    <tr>\n",
       "      <th>2</th>\n",
       "      <td>Ugg3dWTOxryFfHgCoAEC</td>\n",
       "      <td>04kJtp6pVXI</td>\n",
       "      <td>\\nDont you reckon them 'black lives matter' ba...</td>\n",
       "      <td>True</td>\n",
       "      <td>True</td>\n",
       "      <td>False</td>\n",
       "      <td>False</td>\n",
       "      <td>True</td>\n",
       "      <td>False</td>\n",
       "      <td>False</td>\n",
       "      <td>False</td>\n",
       "      <td>False</td>\n",
       "      <td>False</td>\n",
       "      <td>False</td>\n",
       "      <td>False</td>\n",
       "    </tr>\n",
       "    <tr>\n",
       "      <th>3</th>\n",
       "      <td>Ugg7Gd006w1MPngCoAEC</td>\n",
       "      <td>04kJtp6pVXI</td>\n",
       "      <td>There are a very large number of people who do...</td>\n",
       "      <td>False</td>\n",
       "      <td>False</td>\n",
       "      <td>False</td>\n",
       "      <td>False</td>\n",
       "      <td>False</td>\n",
       "      <td>False</td>\n",
       "      <td>False</td>\n",
       "      <td>False</td>\n",
       "      <td>False</td>\n",
       "      <td>False</td>\n",
       "      <td>False</td>\n",
       "      <td>False</td>\n",
       "    </tr>\n",
       "    <tr>\n",
       "      <th>4</th>\n",
       "      <td>Ugg8FfTbbNF8IngCoAEC</td>\n",
       "      <td>04kJtp6pVXI</td>\n",
       "      <td>The Arab dude is absolutely right, he should h...</td>\n",
       "      <td>False</td>\n",
       "      <td>False</td>\n",
       "      <td>False</td>\n",
       "      <td>False</td>\n",
       "      <td>False</td>\n",
       "      <td>False</td>\n",
       "      <td>False</td>\n",
       "      <td>False</td>\n",
       "      <td>False</td>\n",
       "      <td>False</td>\n",
       "      <td>False</td>\n",
       "      <td>False</td>\n",
       "    </tr>\n",
       "  </tbody>\n",
       "</table>\n",
       "</div>"
      ],
      "text/plain": [
       "              CommentId      VideoId  \\\n",
       "0  Ugg2KwwX0V8-aXgCoAEC  04kJtp6pVXI   \n",
       "1  Ugg2s5AzSPioEXgCoAEC  04kJtp6pVXI   \n",
       "2  Ugg3dWTOxryFfHgCoAEC  04kJtp6pVXI   \n",
       "3  Ugg7Gd006w1MPngCoAEC  04kJtp6pVXI   \n",
       "4  Ugg8FfTbbNF8IngCoAEC  04kJtp6pVXI   \n",
       "\n",
       "                                                Text  IsToxic  IsAbusive  \\\n",
       "0  If only people would just take a step back and...    False      False   \n",
       "1  Law enforcement is not trained to shoot to app...     True       True   \n",
       "2  \\nDont you reckon them 'black lives matter' ba...     True       True   \n",
       "3  There are a very large number of people who do...    False      False   \n",
       "4  The Arab dude is absolutely right, he should h...    False      False   \n",
       "\n",
       "   IsThreat  IsProvocative  IsObscene  IsHatespeech  IsRacist  IsNationalist  \\\n",
       "0     False          False      False         False     False          False   \n",
       "1     False          False      False         False     False          False   \n",
       "2     False          False       True         False     False          False   \n",
       "3     False          False      False         False     False          False   \n",
       "4     False          False      False         False     False          False   \n",
       "\n",
       "   IsSexist  IsHomophobic  IsReligiousHate  IsRadicalism  \n",
       "0     False         False            False         False  \n",
       "1     False         False            False         False  \n",
       "2     False         False            False         False  \n",
       "3     False         False            False         False  \n",
       "4     False         False            False         False  "
      ]
     },
     "execution_count": 8,
     "metadata": {},
     "output_type": "execute_result"
    }
   ],
   "source": [
    "import pandas as pd\n",
    "import matplotlib.pyplot as plt\n",
    "import seaborn as sns\n",
    "\n",
    "df = pd.read_csv(\"../data/youtoxic_english_1000.csv\")\n",
    "\n",
    "df.head()\n"
   ]
  },
  {
   "cell_type": "code",
   "execution_count": 9,
   "id": "3798c53c",
   "metadata": {},
   "outputs": [
    {
     "name": "stdout",
     "output_type": "stream",
     "text": [
      "Filas: 1000, Columnas: 15\n",
      "<class 'pandas.core.frame.DataFrame'>\n",
      "RangeIndex: 1000 entries, 0 to 999\n",
      "Data columns (total 15 columns):\n",
      " #   Column           Non-Null Count  Dtype \n",
      "---  ------           --------------  ----- \n",
      " 0   CommentId        1000 non-null   object\n",
      " 1   VideoId          1000 non-null   object\n",
      " 2   Text             1000 non-null   object\n",
      " 3   IsToxic          1000 non-null   bool  \n",
      " 4   IsAbusive        1000 non-null   bool  \n",
      " 5   IsThreat         1000 non-null   bool  \n",
      " 6   IsProvocative    1000 non-null   bool  \n",
      " 7   IsObscene        1000 non-null   bool  \n",
      " 8   IsHatespeech     1000 non-null   bool  \n",
      " 9   IsRacist         1000 non-null   bool  \n",
      " 10  IsNationalist    1000 non-null   bool  \n",
      " 11  IsSexist         1000 non-null   bool  \n",
      " 12  IsHomophobic     1000 non-null   bool  \n",
      " 13  IsReligiousHate  1000 non-null   bool  \n",
      " 14  IsRadicalism     1000 non-null   bool  \n",
      "dtypes: bool(12), object(3)\n",
      "memory usage: 35.3+ KB\n",
      "\n",
      "Valores nulos por columna:\n",
      "CommentId          0\n",
      "VideoId            0\n",
      "Text               0\n",
      "IsToxic            0\n",
      "IsAbusive          0\n",
      "IsThreat           0\n",
      "IsProvocative      0\n",
      "IsObscene          0\n",
      "IsHatespeech       0\n",
      "IsRacist           0\n",
      "IsNationalist      0\n",
      "IsSexist           0\n",
      "IsHomophobic       0\n",
      "IsReligiousHate    0\n",
      "IsRadicalism       0\n",
      "dtype: int64\n"
     ]
    }
   ],
   "source": [
    "# Dimensiones del dataset\n",
    "print(f\"Filas: {df.shape[0]}, Columnas: {df.shape[1]}\")\n",
    "\n",
    "df.info()\n",
    "\n",
    "print(\"\\nValores nulos por columna:\")\n",
    "print(df.isnull().sum())\n"
   ]
  },
  {
   "cell_type": "code",
   "execution_count": 10,
   "id": "c5ffb089",
   "metadata": {},
   "outputs": [
    {
     "data": {
      "image/png": "[encoded data removed]",
      "text/plain": [
       "<Figure size 640x480 with 1 Axes>"
      ]
     },
     "metadata": {},
     "output_type": "display_data"
    },
    {
     "name": "stdout",
     "output_type": "stream",
     "text": [
      "Distribución porcentual:\n",
      " IsToxic\n",
      "False    53.8\n",
      "True     46.2\n",
      "Name: proportion, dtype: float64\n"
     ]
    }
   ],
   "source": [
    "# Distribución del target IsToxic\n",
    "sns.countplot(x=\"IsToxic\", data=df)\n",
    "plt.title(\"Distribución de comentarios tóxicos vs no tóxicos\")\n",
    "plt.xlabel(\"¿Es tóxico?\")\n",
    "plt.ylabel(\"Número de comentarios\")\n",
    "plt.show()\n",
    "\n",
    "# Porcentaje de cada clase\n",
    "toxicity_ratio = df[\"IsToxic\"].value_counts(normalize=True) * 100\n",
    "print(\"Distribución porcentual:\\n\", toxicity_ratio)\n"
   ]
  },
  {
   "cell_type": "code",
   "execution_count": 11,
   "id": "38f148d4",
   "metadata": {},
   "outputs": [
    {
     "data": {
      "application/vnd.microsoft.datawrangler.viewer.v0+json": {
       "columns": [
        {
         "name": "IsToxic",
         "rawType": "bool",
         "type": "boolean"
        },
        {
         "name": "('text_length_chars', 'count')",
         "rawType": "float64",
         "type": "float"
        },
        {
         "name": "('text_length_chars', 'mean')",
         "rawType": "float64",
         "type": "float"
        },
        {
         "name": "('text_length_chars', 'std')",
         "rawType": "float64",
         "type": "float"
        },
        {
         "name": "('text_length_chars', 'min')",
         "rawType": "float64",
         "type": "float"
        },
        {
         "name": "('text_length_chars', '25%')",
         "rawType": "float64",
         "type": "float"
        },
        {
         "name": "('text_length_chars', '50%')",
         "rawType": "float64",
         "type": "float"
        },
        {
         "name": "('text_length_chars', '75%')",
         "rawType": "float64",
         "type": "float"
        },
        {
         "name": "('text_length_chars', 'max')",
         "rawType": "float64",
         "type": "float"
        },
        {
         "name": "('text_length_words', 'count')",
         "rawType": "float64",
         "type": "float"
        },
        {
         "name": "('text_length_words', 'mean')",
         "rawType": "float64",
         "type": "float"
        },
        {
         "name": "('text_length_words', 'std')",
         "rawType": "float64",
         "type": "float"
        },
        {
         "name": "('text_length_words', 'min')",
         "rawType": "float64",
         "type": "float"
        },
        {
         "name": "('text_length_words', '25%')",
         "rawType": "float64",
         "type": "float"
        },
        {
         "name": "('text_length_words', '50%')",
         "rawType": "float64",
         "type": "float"
        },
        {
         "name": "('text_length_words', '75%')",
         "rawType": "float64",
         "type": "float"
        },
        {
         "name": "('text_length_words', 'max')",
         "rawType": "float64",
         "type": "float"
        }
       ],
       "ref": "f5640233-7ff7-4f0c-9c3f-fa9664928674",
       "rows": [
        [
         "False",
         "538.0",
         "182.26208178438662",
         "252.29570176553517",
         "3.0",
         "44.0",
         "96.0",
         "210.75",
         "2292.0",
         "538.0",
         "33.06505576208178",
         "45.165137159264056",
         "1.0",
         "8.0",
         "18.0",
         "38.0",
         "418.0"
        ],
        [
         "True",
         "462.0",
         "189.3874458874459",
         "291.06194094146355",
         "6.0",
         "54.25",
         "110.0",
         "220.75",
         "4421.0",
         "462.0",
         "34.603896103896105",
         "53.294876357477484",
         "1.0",
         "10.0",
         "20.0",
         "40.0",
         "815.0"
        ]
       ],
       "shape": {
        "columns": 16,
        "rows": 2
       }
      },
      "text/html": [
       "<div>\n",
       "<style scoped>\n",
       "    .dataframe tbody tr th:only-of-type {\n",
       "        vertical-align: middle;\n",
       "    }\n",
       "\n",
       "    .dataframe tbody tr th {\n",
       "        vertical-align: top;\n",
       "    }\n",
       "\n",
       "    .dataframe thead tr th {\n",
       "        text-align: left;\n",
       "    }\n",
       "\n",
       "    .dataframe thead tr:last-of-type th {\n",
       "        text-align: right;\n",
       "    }\n",
       "</style>\n",
       "<table border=\"1\" class=\"dataframe\">\n",
       "  <thead>\n",
       "    <tr>\n",
       "      <th></th>\n",
       "      <th colspan=\"8\" halign=\"left\">text_length_chars</th>\n",
       "      <th colspan=\"8\" halign=\"left\">text_length_words</th>\n",
       "    </tr>\n",
       "    <tr>\n",
       "      <th></th>\n",
       "      <th>count</th>\n",
       "      <th>mean</th>\n",
       "      <th>std</th>\n",
       "      <th>min</th>\n",
       "      <th>25%</th>\n",
       "      <th>50%</th>\n",
       "      <th>75%</th>\n",
       "      <th>max</th>\n",
       "      <th>count</th>\n",
       "      <th>mean</th>\n",
       "      <th>std</th>\n",
       "      <th>min</th>\n",
       "      <th>25%</th>\n",
       "      <th>50%</th>\n",
       "      <th>75%</th>\n",
       "      <th>max</th>\n",
       "    </tr>\n",
       "    <tr>\n",
       "      <th>IsToxic</th>\n",
       "      <th></th>\n",
       "      <th></th>\n",
       "      <th></th>\n",
       "      <th></th>\n",
       "      <th></th>\n",
       "      <th></th>\n",
       "      <th></th>\n",
       "      <th></th>\n",
       "      <th></th>\n",
       "      <th></th>\n",
       "      <th></th>\n",
       "      <th></th>\n",
       "      <th></th>\n",
       "      <th></th>\n",
       "      <th></th>\n",
       "      <th></th>\n",
       "    </tr>\n",
       "  </thead>\n",
       "  <tbody>\n",
       "    <tr>\n",
       "      <th>False</th>\n",
       "      <td>538.0</td>\n",
       "      <td>182.262082</td>\n",
       "      <td>252.295702</td>\n",
       "      <td>3.0</td>\n",
       "      <td>44.00</td>\n",
       "      <td>96.0</td>\n",
       "      <td>210.75</td>\n",
       "      <td>2292.0</td>\n",
       "      <td>538.0</td>\n",
       "      <td>33.065056</td>\n",
       "      <td>45.165137</td>\n",
       "      <td>1.0</td>\n",
       "      <td>8.0</td>\n",
       "      <td>18.0</td>\n",
       "      <td>38.0</td>\n",
       "      <td>418.0</td>\n",
       "    </tr>\n",
       "    <tr>\n",
       "      <th>True</th>\n",
       "      <td>462.0</td>\n",
       "      <td>189.387446</td>\n",
       "      <td>291.061941</td>\n",
       "      <td>6.0</td>\n",
       "      <td>54.25</td>\n",
       "      <td>110.0</td>\n",
       "      <td>220.75</td>\n",
       "      <td>4421.0</td>\n",
       "      <td>462.0</td>\n",
       "      <td>34.603896</td>\n",
       "      <td>53.294876</td>\n",
       "      <td>1.0</td>\n",
       "      <td>10.0</td>\n",
       "      <td>20.0</td>\n",
       "      <td>40.0</td>\n",
       "      <td>815.0</td>\n",
       "    </tr>\n",
       "  </tbody>\n",
       "</table>\n",
       "</div>"
      ],
      "text/plain": [
       "        text_length_chars                                                     \\\n",
       "                    count        mean         std  min    25%    50%     75%   \n",
       "IsToxic                                                                        \n",
       "False               538.0  182.262082  252.295702  3.0  44.00   96.0  210.75   \n",
       "True                462.0  189.387446  291.061941  6.0  54.25  110.0  220.75   \n",
       "\n",
       "                text_length_words                                         \\\n",
       "            max             count       mean        std  min   25%   50%   \n",
       "IsToxic                                                                    \n",
       "False    2292.0             538.0  33.065056  45.165137  1.0   8.0  18.0   \n",
       "True     4421.0             462.0  34.603896  53.294876  1.0  10.0  20.0   \n",
       "\n",
       "                      \n",
       "          75%    max  \n",
       "IsToxic               \n",
       "False    38.0  418.0  \n",
       "True     40.0  815.0  "
      ]
     },
     "execution_count": 11,
     "metadata": {},
     "output_type": "execute_result"
    }
   ],
   "source": [
    "# Crear columnas nuevas para análisis de texto\n",
    "df[\"text_length_chars\"] = df[\"Text\"].apply(len)\n",
    "df[\"text_length_words\"] = df[\"Text\"].apply(lambda x: len(x.split()))\n",
    "\n",
    "# Mostrar estadísticos por tipo de comentario\n",
    "df.groupby(\"IsToxic\")[[\"text_length_chars\", \"text_length_words\"]].describe()\n"
   ]
  },
  {
   "cell_type": "code",
   "execution_count": 12,
   "id": "3ca9601e",
   "metadata": {},
   "outputs": [
    {
     "data": {
      "image/png": "[encoded data removed]",
      "text/plain": [
       "<Figure size 1400x600 with 2 Axes>"
      ]
     },
     "metadata": {},
     "output_type": "display_data"
    }
   ],
   "source": [
    "# Boxplots para comparar longitud de texto por clase\n",
    "fig, axes = plt.subplots(1, 2, figsize=(14, 6))\n",
    "\n",
    "sns.boxplot(x=\"IsToxic\", y=\"text_length_chars\", data=df, ax=axes[0])\n",
    "axes[0].set_title(\"Longitud en caracteres por tipo de comentario\")\n",
    "\n",
    "sns.boxplot(x=\"IsToxic\", y=\"text_length_words\", data=df, ax=axes[1])\n",
    "axes[1].set_title(\"Longitud en palabras por tipo de comentario\")\n",
    "\n",
    "plt.tight_layout()\n",
    "plt.show()\n"
   ]
  },
  {
   "cell_type": "markdown",
   "id": "dcd4dca6",
   "metadata": {},
   "source": [
    "### Comparativa de longitud de los comentarios (Boxplot)\n",
    "\n",
    "En esta visualización comparamos la **longitud de los comentarios tóxicos y no tóxicos**, tanto en número de caracteres como de palabras.\n",
    "\n",
    "#### ¿Qué es un boxplot?\n",
    "Un **boxplot** (o diagrama de caja) es una representación visual que nos permite ver:\n",
    "- La **mediana** del conjunto de datos (línea central de la caja).\n",
    "- El **rango intercuartílico** (donde se concentra el 50% de los valores).\n",
    "- Los **valores extremos o outliers** (representados como puntos).\n",
    "\n",
    "#### ¿Qué vemos en estos gráficos?\n",
    "- La longitud de los comentarios **tóxicos y no tóxicos** es muy similar.\n",
    "- Hay **muchos comentarios cortos** en ambos grupos.\n",
    "- Aparecen **algunos comentarios muy largos** (outliers), especialmente en caracteres.\n",
    "- No se observa una diferencia clara que nos permita decir que un tipo de comentario sea más largo que otro de forma sistemática.\n",
    "\n",
    "#### ¿Qué concluimos?\n",
    "Aunque puede haber pequeñas diferencias, **la longitud del comentario no parece ser un buen indicador por sí solo de si un comentario es tóxico o no**. Aun así, es útil conocer estas características para posibles decisiones de preprocesamiento, como filtrar comentarios excesivamente largos o cortos.\n"
   ]
  },
  {
   "cell_type": "code",
   "execution_count": 13,
   "id": "c61dd9da",
   "metadata": {},
   "outputs": [],
   "source": [
    "# Filtrar comentarios tóxicos y no tóxicos\n",
    "toxic_comments = df[df[\"IsToxic\"] == True][\"Text\"]\n",
    "nontoxic_comments = df[df[\"IsToxic\"] == False][\"Text\"]\n",
    "\n",
    "# Juntarlos en dos grandes textos para analizarlos\n",
    "toxic_text = \" \".join(toxic_comments).lower()\n",
    "nontoxic_text = \" \".join(nontoxic_comments).lower()\n"
   ]
  },
  {
   "cell_type": "markdown",
   "id": "30df9d88",
   "metadata": {},
   "source": [
    "### Análisis del contenido textual\n",
    "\n",
    "Para entender mejor las diferencias entre los comentarios tóxicos y no tóxicos, hemos separado los textos en dos grupos:\n",
    "\n",
    "- Comentarios etiquetados como **tóxicos**.\n",
    "- Comentarios etiquetados como **no tóxicos**.\n",
    "\n",
    "Hemos unido los comentarios de cada grupo en un único texto para poder analizar qué palabras aparecen con mayor frecuencia en cada uno. Este enfoque nos permitirá visualizar patrones de lenguaje característicos, que luego pueden ser clave para entrenar un modelo predictivo.\n",
    "\n",
    "En los próximos pasos generaremos:\n",
    "- Listados de palabras más frecuentes.\n",
    "- Nubes de palabras (*wordclouds*).\n",
    "- N-gramas más comunes (combinaciones típicas de 2-3 palabras).\n"
   ]
  }
 ],
 "metadata": {
  "kernelspec": {
   "display_name": ".venv",
   "language": "python",
   "name": "python3"
  },
  "language_info": {
   "codemirror_mode": {
    "name": "ipython",
    "version": 3
   },
   "file_extension": ".py",
   "mimetype": "text/x-python",
   "name": "python",
   "nbconvert_exporter": "python",
   "pygments_lexer": "ipython3",
   "version": "3.12.4"
  }
 },
 "nbformat": 4,
 "nbformat_minor": 5
}
