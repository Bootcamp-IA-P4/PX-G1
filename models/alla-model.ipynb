{
 "cells": [
  {
   "cell_type": "code",
   "execution_count": 87,
   "id": "2e890bf6",
   "metadata": {},
   "outputs": [
    {
     "name": "stderr",
     "output_type": "stream",
     "text": [
      "[nltk_data] Downloading package punkt to /Users/trabajo/nltk_data...\n",
      "[nltk_data]   Package punkt is already up-to-date!\n",
      "[nltk_data] Downloading package stopwords to\n",
      "[nltk_data]     /Users/trabajo/nltk_data...\n",
      "[nltk_data]   Package stopwords is already up-to-date!\n",
      "[nltk_data] Downloading package wordnet to /Users/trabajo/nltk_data...\n",
      "[nltk_data]   Package wordnet is already up-to-date!\n"
     ]
    }
   ],
   "source": [
    "# importamos las dependencias\n",
    "import nltk\n",
    "from nltk.corpus import stopwords\n",
    "from nltk.stem import WordNetLemmatizer\n",
    "from sklearn.metrics import f1_score\n",
    "import pandas as pd\n",
    "\n",
    "nltk.download('punkt')\n",
    "nltk.download('stopwords')\n",
    "nltk.download('wordnet')\n",
    "\n",
    "from sklearn.feature_extraction.text import TfidfVectorizer\n",
    "from sklearn.linear_model import LogisticRegression\n",
    "from sklearn.model_selection import train_test_split, cross_val_score\n",
    "from sklearn.naive_bayes import MultinomialNB\n",
    "\n",
    "from sklearn.metrics import (\n",
    "    confusion_matrix,\n",
    "    classification_report,\n",
    "    f1_score,\n",
    "    make_scorer\n",
    ")"
   ]
  },
  {
   "cell_type": "markdown",
   "id": "879a1a9c",
   "metadata": {},
   "source": [
    "Importamos el dataset inicial y elejimos las 2 columnas que hemos decidido usar para el entrenamiento del modelo. "
   ]
  },
  {
   "cell_type": "code",
   "execution_count": 88,
   "id": "705d1f82",
   "metadata": {},
   "outputs": [
    {
     "data": {
      "text/html": [
       "<div>\n",
       "<style scoped>\n",
       "    .dataframe tbody tr th:only-of-type {\n",
       "        vertical-align: middle;\n",
       "    }\n",
       "\n",
       "    .dataframe tbody tr th {\n",
       "        vertical-align: top;\n",
       "    }\n",
       "\n",
       "    .dataframe thead th {\n",
       "        text-align: right;\n",
       "    }\n",
       "</style>\n",
       "<table border=\"1\" class=\"dataframe\">\n",
       "  <thead>\n",
       "    <tr style=\"text-align: right;\">\n",
       "      <th></th>\n",
       "      <th>Text</th>\n",
       "      <th>IsToxic</th>\n",
       "    </tr>\n",
       "  </thead>\n",
       "  <tbody>\n",
       "    <tr>\n",
       "      <th>0</th>\n",
       "      <td>If only people would just take a step back and...</td>\n",
       "      <td>False</td>\n",
       "    </tr>\n",
       "    <tr>\n",
       "      <th>1</th>\n",
       "      <td>Law enforcement is not trained to shoot to app...</td>\n",
       "      <td>True</td>\n",
       "    </tr>\n",
       "    <tr>\n",
       "      <th>2</th>\n",
       "      <td>\\nDont you reckon them 'black lives matter' ba...</td>\n",
       "      <td>True</td>\n",
       "    </tr>\n",
       "    <tr>\n",
       "      <th>3</th>\n",
       "      <td>There are a very large number of people who do...</td>\n",
       "      <td>False</td>\n",
       "    </tr>\n",
       "    <tr>\n",
       "      <th>4</th>\n",
       "      <td>The Arab dude is absolutely right, he should h...</td>\n",
       "      <td>False</td>\n",
       "    </tr>\n",
       "  </tbody>\n",
       "</table>\n",
       "</div>"
      ],
      "text/plain": [
       "                                                Text  IsToxic\n",
       "0  If only people would just take a step back and...    False\n",
       "1  Law enforcement is not trained to shoot to app...     True\n",
       "2  \\nDont you reckon them 'black lives matter' ba...     True\n",
       "3  There are a very large number of people who do...    False\n",
       "4  The Arab dude is absolutely right, he should h...    False"
      ]
     },
     "execution_count": 88,
     "metadata": {},
     "output_type": "execute_result"
    }
   ],
   "source": [
    "starter_df = pd.read_csv(\"../data/youtoxic_english_1000.csv\")\n",
    "starter_df = starter_df[[\"Text\", \"IsToxic\"]]\n",
    "\n",
    "starter_df.head(5)"
   ]
  },
  {
   "cell_type": "markdown",
   "id": "cfd80ad5",
   "metadata": {},
   "source": [
    "Imprimimos información básica del dataset y vemos que hay 1000 filas."
   ]
  },
  {
   "cell_type": "code",
   "execution_count": 89,
   "id": "0cb25c72",
   "metadata": {},
   "outputs": [
    {
     "name": "stdout",
     "output_type": "stream",
     "text": [
      "<class 'pandas.core.frame.DataFrame'>\n",
      "RangeIndex: 1000 entries, 0 to 999\n",
      "Data columns (total 2 columns):\n",
      " #   Column   Non-Null Count  Dtype \n",
      "---  ------   --------------  ----- \n",
      " 0   Text     1000 non-null   object\n",
      " 1   IsToxic  1000 non-null   bool  \n",
      "dtypes: bool(1), object(1)\n",
      "memory usage: 8.9+ KB\n"
     ]
    }
   ],
   "source": [
    "starter_df.info()"
   ]
  },
  {
   "cell_type": "markdown",
   "id": "fcc7ff19",
   "metadata": {},
   "source": [
    "Imprimmos la suma de cada variable en la columna \"IsToxic\" para ver el balanceo del dataset."
   ]
  },
  {
   "cell_type": "code",
   "execution_count": 90,
   "id": "26c7e1f2",
   "metadata": {},
   "outputs": [
    {
     "name": "stdout",
     "output_type": "stream",
     "text": [
      "Hay 462 comentarios de odio\n",
      "Hay 538 comentarios sin odio\n"
     ]
    }
   ],
   "source": [
    "count_hate = (starter_df[\"IsToxic\"] == True).sum()\n",
    "count_no_hate = (starter_df[\"IsToxic\"] == False).sum()\n",
    "print(f\"Hay {count_hate} comentarios de odio\")\n",
    "print(f\"Hay {count_no_hate} comentarios sin odio\")"
   ]
  },
  {
   "cell_type": "code",
   "execution_count": 91,
   "id": "4f17e8a9",
   "metadata": {},
   "outputs": [
    {
     "data": {
      "image/png": "[encoded data removed]",
      "text/plain": [
       "<Figure size 640x480 with 1 Axes>"
      ]
     },
     "metadata": {},
     "output_type": "display_data"
    }
   ],
   "source": [
    "import matplotlib.pyplot as plt\n",
    "\n",
    "labels = ['Toxico', 'No Toxico']\n",
    "counts = [count_hate, count_no_hate]\n",
    "\n",
    "plt.bar(labels, counts)\n",
    "plt.title('Distribución de Comentarios Tóxicos')\n",
    "plt.xlabel('Tipo de comentario')\n",
    "plt.ylabel('Cantidad')\n",
    "\n",
    "plt.show()"
   ]
  },
  {
   "cell_type": "markdown",
   "id": "672d4968",
   "metadata": {},
   "source": [
    "Como vemos el dataset está bastante balanceado pero al ser tan pocos datos el modelo puede tener problemas para predecir, por lo que decidimos incluir más datos desde [otro dataset de Kaggle.](https://www.kaggle.com/code/giovanimachado/hate-speech-bert-cnn-and-bert-mlp-in-tensorflow)"
   ]
  },
  {
   "cell_type": "code",
   "execution_count": 92,
   "id": "2a138c6e",
   "metadata": {},
   "outputs": [
    {
     "data": {
      "text/html": [
       "<div>\n",
       "<style scoped>\n",
       "    .dataframe tbody tr th:only-of-type {\n",
       "        vertical-align: middle;\n",
       "    }\n",
       "\n",
       "    .dataframe tbody tr th {\n",
       "        vertical-align: top;\n",
       "    }\n",
       "\n",
       "    .dataframe thead th {\n",
       "        text-align: right;\n",
       "    }\n",
       "</style>\n",
       "<table border=\"1\" class=\"dataframe\">\n",
       "  <thead>\n",
       "    <tr style=\"text-align: right;\">\n",
       "      <th></th>\n",
       "      <th>Unnamed: 0</th>\n",
       "      <th>count</th>\n",
       "      <th>hate_speech</th>\n",
       "      <th>offensive_language</th>\n",
       "      <th>neither</th>\n",
       "      <th>class</th>\n",
       "      <th>tweet</th>\n",
       "    </tr>\n",
       "  </thead>\n",
       "  <tbody>\n",
       "    <tr>\n",
       "      <th>0</th>\n",
       "      <td>0</td>\n",
       "      <td>3</td>\n",
       "      <td>0</td>\n",
       "      <td>0</td>\n",
       "      <td>3</td>\n",
       "      <td>2</td>\n",
       "      <td>!!! RT @mayasolovely: As a woman you shouldn't...</td>\n",
       "    </tr>\n",
       "    <tr>\n",
       "      <th>1</th>\n",
       "      <td>1</td>\n",
       "      <td>3</td>\n",
       "      <td>0</td>\n",
       "      <td>3</td>\n",
       "      <td>0</td>\n",
       "      <td>1</td>\n",
       "      <td>!!!!! RT @mleew17: boy dats cold...tyga dwn ba...</td>\n",
       "    </tr>\n",
       "    <tr>\n",
       "      <th>2</th>\n",
       "      <td>2</td>\n",
       "      <td>3</td>\n",
       "      <td>0</td>\n",
       "      <td>3</td>\n",
       "      <td>0</td>\n",
       "      <td>1</td>\n",
       "      <td>!!!!!!! RT @UrKindOfBrand Dawg!!!! RT @80sbaby...</td>\n",
       "    </tr>\n",
       "    <tr>\n",
       "      <th>3</th>\n",
       "      <td>3</td>\n",
       "      <td>3</td>\n",
       "      <td>0</td>\n",
       "      <td>2</td>\n",
       "      <td>1</td>\n",
       "      <td>1</td>\n",
       "      <td>!!!!!!!!! RT @C_G_Anderson: @viva_based she lo...</td>\n",
       "    </tr>\n",
       "    <tr>\n",
       "      <th>4</th>\n",
       "      <td>4</td>\n",
       "      <td>6</td>\n",
       "      <td>0</td>\n",
       "      <td>6</td>\n",
       "      <td>0</td>\n",
       "      <td>1</td>\n",
       "      <td>!!!!!!!!!!!!! RT @ShenikaRoberts: The shit you...</td>\n",
       "    </tr>\n",
       "  </tbody>\n",
       "</table>\n",
       "</div>"
      ],
      "text/plain": [
       "   Unnamed: 0  count  hate_speech  offensive_language  neither  class  \\\n",
       "0           0      3            0                   0        3      2   \n",
       "1           1      3            0                   3        0      1   \n",
       "2           2      3            0                   3        0      1   \n",
       "3           3      3            0                   2        1      1   \n",
       "4           4      6            0                   6        0      1   \n",
       "\n",
       "                                               tweet  \n",
       "0  !!! RT @mayasolovely: As a woman you shouldn't...  \n",
       "1  !!!!! RT @mleew17: boy dats cold...tyga dwn ba...  \n",
       "2  !!!!!!! RT @UrKindOfBrand Dawg!!!! RT @80sbaby...  \n",
       "3  !!!!!!!!! RT @C_G_Anderson: @viva_based she lo...  \n",
       "4  !!!!!!!!!!!!! RT @ShenikaRoberts: The shit you...  "
      ]
     },
     "execution_count": 92,
     "metadata": {},
     "output_type": "execute_result"
    }
   ],
   "source": [
    "new_df = pd.read_csv(\"../data/labeled_data.csv\")\n",
    "\n",
    "new_df.head()"
   ]
  },
  {
   "cell_type": "code",
   "execution_count": 93,
   "id": "ddb2ec1d",
   "metadata": {},
   "outputs": [
    {
     "name": "stdout",
     "output_type": "stream",
     "text": [
      "Hay 19790 comentarios de odio en el nuevo dataset\n",
      "Hay 1251 comentarios de no odio en el nuevo dataset\n"
     ]
    }
   ],
   "source": [
    "count = (new_df[\"hate_speech\"] == 0).sum()\n",
    "count_1 = (new_df[\"hate_speech\"] == 2).sum()\n",
    "\n",
    "print(f\"Hay {count} comentarios de odio en el nuevo dataset\")\n",
    "print(f\"Hay {count_1} comentarios de no odio en el nuevo dataset\")"
   ]
  },
  {
   "cell_type": "markdown",
   "id": "5f95ea84",
   "metadata": {},
   "source": [
    "Vemos que este dataset tiene bastantes datos que podemos integrar en nuestro dataset. Decidimos traer 1250 filas random de cada tipo de dato, es decir cuando \"hate_speech\" sea 0 y 2, Sí, No, respectivamente. Lo guardamos en un nuevo archivo llamado extra_data.csv"
   ]
  },
  {
   "cell_type": "code",
   "execution_count": 94,
   "id": "d314314d",
   "metadata": {},
   "outputs": [
    {
     "name": "stdout",
     "output_type": "stream",
     "text": [
      "                                                Text  IsToxic\n",
      "0  @OptimusOdd mine will say \"the intimidator\" &#...     True\n",
      "1  There are girls. There are women. There are la...     True\n",
      "2                 @marshabitch don't start lil bitch     True\n",
      "3  RT @ispeak_sarcasms: the nigga with no future ...     True\n",
      "4  Meek do some nut shit one time he a bitch I gu...     True\n"
     ]
    }
   ],
   "source": [
    "# Filtrar y renombrar 1250 ejemplos de cada clase\n",
    "df_0 = new_df[new_df[\"hate_speech\"] == 0][[\"tweet\", \"hate_speech\"]].sample(n=1250, random_state=42)\n",
    "df_2 = new_df[new_df[\"hate_speech\"] == 2][[\"tweet\", \"hate_speech\"]].sample(n=1250, random_state=42)\n",
    "\n",
    "nuevo_df = pd.concat([df_0, df_2], ignore_index=True)\n",
    "\n",
    "nuevo_df = nuevo_df.rename(columns={\n",
    "    \"tweet\": \"Text\",\n",
    "    \"hate_speech\": \"IsToxic\"\n",
    "})\n",
    "\n",
    "# Crear columna booleana: True si es tóxico (hate_speech == 0), False si no (hate_speech == 2)\n",
    "nuevo_df[\"IsToxic\"] = nuevo_df[\"IsToxic\"] == 0\n",
    "\n",
    "nuevo_df.to_csv(\"../data/extra_data.csv\", index=False)\n",
    "\n",
    "print(nuevo_df.head(5))"
   ]
  },
  {
   "cell_type": "code",
   "execution_count": 95,
   "id": "754157ba",
   "metadata": {},
   "outputs": [
    {
     "name": "stdout",
     "output_type": "stream",
     "text": [
      "<class 'pandas.core.frame.DataFrame'>\n",
      "RangeIndex: 2500 entries, 0 to 2499\n",
      "Data columns (total 2 columns):\n",
      " #   Column   Non-Null Count  Dtype \n",
      "---  ------   --------------  ----- \n",
      " 0   Text     2500 non-null   object\n",
      " 1   IsToxic  2500 non-null   bool  \n",
      "dtypes: bool(1), object(1)\n",
      "memory usage: 22.1+ KB\n"
     ]
    }
   ],
   "source": [
    "nuevo_df.info()"
   ]
  },
  {
   "cell_type": "markdown",
   "id": "e3a0bccb",
   "metadata": {},
   "source": [
    "Concatenamos el dataset extra_data.csv con nuestro dataset inicial."
   ]
  },
  {
   "cell_type": "code",
   "execution_count": 96,
   "id": "cdb805a8",
   "metadata": {},
   "outputs": [],
   "source": [
    "extra_df = pd.read_csv(\"../data/extra_data.csv\")\n",
    "df = pd.concat([starter_df, extra_df], ignore_index=True)"
   ]
  },
  {
   "cell_type": "code",
   "execution_count": 97,
   "id": "a591d0d8",
   "metadata": {},
   "outputs": [
    {
     "name": "stdout",
     "output_type": "stream",
     "text": [
      "<class 'pandas.core.frame.DataFrame'>\n",
      "RangeIndex: 3500 entries, 0 to 3499\n",
      "Data columns (total 2 columns):\n",
      " #   Column   Non-Null Count  Dtype \n",
      "---  ------   --------------  ----- \n",
      " 0   Text     3500 non-null   object\n",
      " 1   IsToxic  3500 non-null   bool  \n",
      "dtypes: bool(1), object(1)\n",
      "memory usage: 30.9+ KB\n"
     ]
    }
   ],
   "source": [
    "df.info()"
   ]
  },
  {
   "cell_type": "code",
   "execution_count": 98,
   "id": "df339452",
   "metadata": {},
   "outputs": [
    {
     "name": "stdout",
     "output_type": "stream",
     "text": [
      "Hay 1712 comentarios de odio\n",
      "Hay 1788 comentarios sin odio\n"
     ]
    },
    {
     "data": {
      "image/png": "[encoded data removed]",
      "text/plain": [
       "<Figure size 640x480 with 1 Axes>"
      ]
     },
     "metadata": {},
     "output_type": "display_data"
    }
   ],
   "source": [
    "import matplotlib.pyplot as plt\n",
    "\n",
    "count_hate = (df[\"IsToxic\"] == True).sum()\n",
    "count_no_hate = (df[\"IsToxic\"] == False).sum()\n",
    "print(f\"Hay {count_hate} comentarios de odio\")\n",
    "print(f\"Hay {count_no_hate} comentarios sin odio\")\n",
    "\n",
    "import matplotlib.pyplot as plt\n",
    "\n",
    "labels = ['Toxico', 'No Toxico']\n",
    "counts = [count_hate, count_no_hate]\n",
    "\n",
    "plt.bar(labels, counts)\n",
    "plt.title('Distribución de Comentarios Tóxicos')\n",
    "plt.xlabel('Tipo de comentario')\n",
    "plt.ylabel('Cantidad')\n",
    "\n",
    "plt.show()\n"
   ]
  },
  {
   "cell_type": "code",
   "execution_count": 99,
   "id": "111fec74",
   "metadata": {},
   "outputs": [
    {
     "data": {
      "text/html": [
       "<div>\n",
       "<style scoped>\n",
       "    .dataframe tbody tr th:only-of-type {\n",
       "        vertical-align: middle;\n",
       "    }\n",
       "\n",
       "    .dataframe tbody tr th {\n",
       "        vertical-align: top;\n",
       "    }\n",
       "\n",
       "    .dataframe thead th {\n",
       "        text-align: right;\n",
       "    }\n",
       "</style>\n",
       "<table border=\"1\" class=\"dataframe\">\n",
       "  <thead>\n",
       "    <tr style=\"text-align: right;\">\n",
       "      <th></th>\n",
       "      <th>Text</th>\n",
       "      <th>IsToxic</th>\n",
       "    </tr>\n",
       "  </thead>\n",
       "  <tbody>\n",
       "    <tr>\n",
       "      <th>0</th>\n",
       "      <td>If only people would just take a step back and...</td>\n",
       "      <td>False</td>\n",
       "    </tr>\n",
       "    <tr>\n",
       "      <th>1</th>\n",
       "      <td>Law enforcement is not trained to shoot to app...</td>\n",
       "      <td>True</td>\n",
       "    </tr>\n",
       "    <tr>\n",
       "      <th>2</th>\n",
       "      <td>\\nDont you reckon them 'black lives matter' ba...</td>\n",
       "      <td>True</td>\n",
       "    </tr>\n",
       "    <tr>\n",
       "      <th>3</th>\n",
       "      <td>There are a very large number of people who do...</td>\n",
       "      <td>False</td>\n",
       "    </tr>\n",
       "    <tr>\n",
       "      <th>4</th>\n",
       "      <td>The Arab dude is absolutely right, he should h...</td>\n",
       "      <td>False</td>\n",
       "    </tr>\n",
       "    <tr>\n",
       "      <th>5</th>\n",
       "      <td>here people his facebook is https://www.facebo...</td>\n",
       "      <td>True</td>\n",
       "    </tr>\n",
       "    <tr>\n",
       "      <th>6</th>\n",
       "      <td>Check out this you tube post. \"Black man goes ...</td>\n",
       "      <td>True</td>\n",
       "    </tr>\n",
       "    <tr>\n",
       "      <th>7</th>\n",
       "      <td>I would LOVE to see this pussy go to Staten Is...</td>\n",
       "      <td>True</td>\n",
       "    </tr>\n",
       "    <tr>\n",
       "      <th>8</th>\n",
       "      <td>I agree with the protestor.</td>\n",
       "      <td>False</td>\n",
       "    </tr>\n",
       "    <tr>\n",
       "      <th>9</th>\n",
       "      <td>mike browns father was made to say that boooshit</td>\n",
       "      <td>True</td>\n",
       "    </tr>\n",
       "  </tbody>\n",
       "</table>\n",
       "</div>"
      ],
      "text/plain": [
       "                                                Text  IsToxic\n",
       "0  If only people would just take a step back and...    False\n",
       "1  Law enforcement is not trained to shoot to app...     True\n",
       "2  \\nDont you reckon them 'black lives matter' ba...     True\n",
       "3  There are a very large number of people who do...    False\n",
       "4  The Arab dude is absolutely right, he should h...    False\n",
       "5  here people his facebook is https://www.facebo...     True\n",
       "6  Check out this you tube post. \"Black man goes ...     True\n",
       "7  I would LOVE to see this pussy go to Staten Is...     True\n",
       "8                        I agree with the protestor.    False\n",
       "9   mike browns father was made to say that boooshit     True"
      ]
     },
     "execution_count": 99,
     "metadata": {},
     "output_type": "execute_result"
    }
   ],
   "source": [
    "df.head(10)"
   ]
  },
  {
   "cell_type": "markdown",
   "id": "d7305341",
   "metadata": {},
   "source": [
    "Y hemos pasado de tener 1000 filas, a tener 3500 filas y sigue siendo un dataset balanceado."
   ]
  },
  {
   "cell_type": "code",
   "execution_count": 79,
   "id": "98c00c7e",
   "metadata": {},
   "outputs": [
    {
     "name": "stdout",
     "output_type": "stream",
     "text": [
      "\n",
      "=== Validación cruzada (F1, clase tóxica) ===\n",
      "F1-score promedio: 0.605\n",
      "Desviación estándar: 0.222\n",
      "\n",
      "=== Evaluación en TRAIN ===\n",
      "[[1145  285]\n",
      " [ 494  876]]\n",
      "              precision    recall  f1-score   support\n",
      "\n",
      "           0       0.70      0.80      0.75      1430\n",
      "           1       0.75      0.64      0.69      1370\n",
      "\n",
      "    accuracy                           0.72      2800\n",
      "   macro avg       0.73      0.72      0.72      2800\n",
      "weighted avg       0.73      0.72      0.72      2800\n",
      "\n",
      "\n",
      "=== Evaluación en TEST ===\n",
      "[[275  83]\n",
      " [131 211]]\n",
      "              precision    recall  f1-score   support\n",
      "\n",
      "           0       0.68      0.77      0.72       358\n",
      "           1       0.72      0.62      0.66       342\n",
      "\n",
      "    accuracy                           0.69       700\n",
      "   macro avg       0.70      0.69      0.69       700\n",
      "weighted avg       0.70      0.69      0.69       700\n",
      "\n",
      "F1-score TRAIN (clase tóxica): 0.692\n",
      "F1-score TEST  (clase tóxica): 0.664\n",
      "Overfitting (basado en F1): 4.15%\n"
     ]
    }
   ],
   "source": [
    "stop_words = set(stopwords.words('english'))\n",
    "lemmatizer = WordNetLemmatizer()\n",
    "\n",
    "def limpiar_texto(texto):\n",
    "    tokens = nltk.word_tokenize(str(texto).lower())\n",
    "    tokens = [t for t in tokens if t.isalpha()]\n",
    "    tokens = [t for t in tokens if t not in stop_words]\n",
    "    tokens = [lemmatizer.lemmatize(t) for t in tokens]\n",
    "    return \" \".join(tokens)\n",
    "\n",
    "df['texto_limpio'] = df['Text'].apply(limpiar_texto)\n",
    "\n",
    "vectorizer = TfidfVectorizer(\n",
    "    max_features=150,\n",
    "    min_df=35,\n",
    "    max_df=0.6,\n",
    "    ngram_range=(1, 2),\n",
    "    sublinear_tf=True\n",
    ")\n",
    "X = vectorizer.fit_transform(df['texto_limpio'])\n",
    "y = df['IsToxic'].astype(int)\n",
    "\n",
    "modelo = LogisticRegression(C=0.06, max_iter=1000, class_weight=\"balanced\")\n",
    "f1_scorer = make_scorer(f1_score, pos_label=1)\n",
    "scores = cross_val_score(modelo, X, y, cv=5, scoring=f1_scorer)\n",
    "\n",
    "print(f\"\\n=== Validación cruzada (F1, clase tóxica) ===\")\n",
    "print(f\"F1-score promedio: {scores.mean():.3f}\")\n",
    "print(f\"Desviación estándar: {scores.std():.3f}\")\n",
    "\n",
    "X_train, X_test, y_train, y_test = train_test_split(\n",
    "    X, y, test_size=0.2, random_state=42, stratify=y\n",
    ")\n",
    "\n",
    "modelo.fit(X_train, y_train)\n",
    "\n",
    "y_train_pred = modelo.predict(X_train)\n",
    "print(\"\\n=== Evaluación en TRAIN ===\")\n",
    "print(confusion_matrix(y_train, y_train_pred))\n",
    "print(classification_report(y_train, y_train_pred))\n",
    "\n",
    "y_test_pred = modelo.predict(X_test)\n",
    "print(\"\\n=== Evaluación en TEST ===\")\n",
    "print(confusion_matrix(y_test, y_test_pred))\n",
    "print(classification_report(y_test, y_test_pred))\n",
    "\n",
    "f1_train = f1_score(y_train, y_train_pred, pos_label=1)\n",
    "f1_test = f1_score(y_test, y_test_pred, pos_label=1)\n",
    "\n",
    "overfitting_f1_pct = ((f1_train - f1_test) / f1_train) * 100 if f1_train != 0 else 0.0\n",
    "print(f\"F1-score TRAIN (clase tóxica): {f1_train:.3f}\")\n",
    "print(f\"F1-score TEST  (clase tóxica): {f1_test:.3f}\")\n",
    "print(f\"Overfitting (basado en F1): {overfitting_f1_pct:.2f}%\")\n",
    "\n",
    "def predict_true_false(prob):\n",
    "    return prob >= 0.5\n",
    "\n",
    "def predecir_toxicidad(texto):\n",
    "    texto_limpio = limpiar_texto(texto)\n",
    "    texto_vect = vectorizer.transform([texto_limpio])\n",
    "    prob = modelo.predict_proba(texto_vect)\n",
    "    print(f\"Probabilidades de cada clase [no tóxico, tóxico]: {prob}\")\n",
    "    prob_toxico = prob[0][1]\n",
    "    print(f\"Probabilidad de toxicidad: {prob_toxico:.3f}\")\n",
    "    prediccion_final = predict_true_false(prob_toxico)\n",
    "    return {\n",
    "        \"prediccion\": prediccion_final,\n",
    "        \"probabilidad_toxico\": round(prob_toxico, 3)\n",
    "    }"
   ]
  },
  {
   "cell_type": "code",
   "execution_count": 80,
   "id": "8368c617",
   "metadata": {},
   "outputs": [
    {
     "name": "stdout",
     "output_type": "stream",
     "text": [
      "Probabilidades de cada clase [no tóxico, tóxico]: [[0.55267616 0.44732384]]\n",
      "Probabilidad de toxicidad: 0.447\n",
      "{'prediccion': np.False_, 'probabilidad_toxico': np.float64(0.447)}\n"
     ]
    }
   ],
   "source": [
    "print(predecir_toxicidad(\"I love this product! It's amazing.\"))"
   ]
  },
  {
   "cell_type": "code",
   "execution_count": 83,
   "id": "be42ec0b",
   "metadata": {},
   "outputs": [
    {
     "name": "stdout",
     "output_type": "stream",
     "text": [
      "Probabilidades de cada clase [no tóxico, tóxico]: [[0.60261148 0.39738852]]\n",
      "Probabilidad de toxicidad: 0.397\n",
      "{'prediccion': np.False_, 'probabilidad_toxico': np.float64(0.397)}\n"
     ]
    }
   ],
   "source": [
    "print(predecir_toxicidad(\"This song is terrible, I hate it.\"))"
   ]
  },
  {
   "cell_type": "markdown",
   "id": "bad1b183",
   "metadata": {},
   "source": [
    "Como vemos estas métricas no están del todo bien, porque el modelo no está prediciendo bien los casos Tóxicos."
   ]
  },
  {
   "cell_type": "markdown",
   "id": "f526db94",
   "metadata": {},
   "source": [
    "Decidimos probar otro modelo, primero añadiendo datos con sinónimos, y usando Transformers para ver si las métricas mejoran."
   ]
  },
  {
   "cell_type": "code",
   "execution_count": null,
   "id": "a2280b74",
   "metadata": {},
   "outputs": [],
   "source": [
    "import pandas as pd\n",
    "import numpy as np\n",
    "import torch\n",
    "import random\n",
    "from datasets import Dataset\n",
    "from sklearn.model_selection import train_test_split\n",
    "from sklearn.metrics import f1_score, precision_score, recall_score, accuracy_score\n",
    "from transformers import (\n",
    "    BertTokenizerFast,\n",
    "    BertForSequenceClassification,\n",
    "    Trainer,\n",
    "    TrainingArguments\n",
    ")\n",
    "import nltk\n",
    "from nltk.corpus import wordnet\n",
    "from wordfreq import zipf_frequency\n",
    "\n",
    "# Descargar recursos NLTK\n",
    "nltk.download(\"wordnet\")\n",
    "nltk.download(\"omw-1.4\")\n",
    "\n",
    "device = torch.device(\"cpu\")\n",
    "print(f\"🔧 Usando device: {device}\")\n",
    "\n",
    "def synonym_replacement(text, n=2):\n",
    "    words = text.split()\n",
    "    new_words = words.copy()\n",
    "    random_word_list = list(set([w for w in words if len(w)>3]))\n",
    "    random.shuffle(random_word_list)\n",
    "    num_replaced = 0\n",
    "    for word in random_word_list:\n",
    "        synonyms = set()\n",
    "        for syn in wordnet.synsets(word):\n",
    "            for lemma in syn.lemmas():\n",
    "                synonym = lemma.name().replace(\"_\", \" \").lower()\n",
    "                if synonym != word and zipf_frequency(synonym, \"en\") > 2:\n",
    "                    synonyms.add(synonym)\n",
    "        if len(synonyms) > 0:\n",
    "            new_word = random.choice(list(synonyms))\n",
    "            new_words = [new_word if w == word else w for w in new_words]\n",
    "            num_replaced += 1\n",
    "        if num_replaced >= n:\n",
    "            break\n",
    "    return \" \".join(new_words)\n",
    "\n",
    "df[\"IsToxic\"] = df[\"IsToxic\"].astype(int)\n",
    "\n",
    "tox_df = df[df[\"IsToxic\"] == 1]\n",
    "augmented = []\n",
    "for _, row in tox_df.sample(n=len(tox_df), replace=True, random_state=42).iterrows():\n",
    "    augmented.append({\n",
    "        \"Text\": synonym_replacement(row[\"Text\"]),\n",
    "        \"IsToxic\": 1\n",
    "    })\n",
    "aug_df = pd.DataFrame(augmented)\n",
    "df_aug = pd.concat([df, aug_df], ignore_index=True)\n",
    "print(f\"Datos después de augmentation: {df_aug.shape}\")\n",
    "\n",
    "train_df, test_df = train_test_split(df_aug, test_size=0.2, stratify=df_aug[\"IsToxic\"], random_state=42)\n",
    "\n",
    "tokenizer = BertTokenizerFast.from_pretrained(\"bert-base-uncased\")\n",
    "\n",
    "def tokenize(batch):\n",
    "    return tokenizer(batch[\"Text\"], truncation=True, padding=\"max_length\", max_length=128)\n",
    "\n",
    "train_ds = Dataset.from_pandas(train_df).map(tokenize, batched=True)\n",
    "test_ds = Dataset.from_pandas(test_df).map(tokenize, batched=True)\n",
    "\n",
    "train_ds = train_ds.remove_columns([\"Text\", \"__index_level_0__\"]).rename_column(\"IsToxic\", \"labels\")\n",
    "test_ds = test_ds.remove_columns([\"Text\", \"__index_level_0__\"]).rename_column(\"IsToxic\", \"labels\")\n",
    "\n",
    "model = BertForSequenceClassification.from_pretrained(\"bert-base-uncased\", num_labels=2).to(device)\n",
    "\n",
    "def compute_metrics(eval_pred):\n",
    "    logits, labels = eval_pred\n",
    "    preds = np.argmax(logits, axis=1)\n",
    "    return {\n",
    "        \"accuracy\": accuracy_score(labels, preds),\n",
    "        \"precision\": precision_score(labels, preds, zero_division=0),\n",
    "        \"recall\": recall_score(labels, preds, zero_division=0),\n",
    "        \"f1\": f1_score(labels, preds, zero_division=0)\n",
    "    }\n",
    "\n",
    "training_args = TrainingArguments(\n",
    "    output_dir=\"./results\",\n",
    "    use_mps_device=True,\n",
    "    num_train_epochs=2,\n",
    "    per_device_train_batch_size=8,\n",
    "    per_device_eval_batch_size=8,\n",
    "    evaluation_strategy=\"epoch\",\n",
    "    save_strategy=\"epoch\",\n",
    "    load_best_model_at_end=True,\n",
    "    metric_for_best_model=\"f1\",\n",
    "    weight_decay=0.1,\n",
    "    logging_dir=\"./logs\",\n",
    "    logging_strategy=\"epoch\"\n",
    ")\n",
    "\n",
    "from transformers import EarlyStoppingCallback\n",
    "\n",
    "trainer = Trainer(\n",
    "    model=model,\n",
    "    args=training_args,\n",
    "    train_dataset=train_ds,\n",
    "    eval_dataset=test_ds,\n",
    "    compute_metrics=compute_metrics,\n",
    "    callbacks=[EarlyStoppingCallback(early_stopping_patience=2)],\n",
    "\n",
    ")\n",
    "\n",
    "trainer.train()\n",
    "\n",
    "test_metrics = trainer.evaluate(eval_dataset=test_ds)\n",
    "print(\"\\n=== RESULTADOS EN TEST ===\")\n",
    "for k, v in test_metrics.items():\n",
    "    print(f\"{k}: {v:.3f}\")\n",
    "\n",
    "train_metrics = trainer.evaluate(eval_dataset=train_ds)\n",
    "print(\"\\n=== RESULTADOS EN TRAIN ===\")\n",
    "for k, v in train_metrics.items():\n",
    "    print(f\"{k}: {v:.3f}\")\n",
    "\n",
    "f1_train = train_metrics[\"eval_f1\"]\n",
    "f1_test = test_metrics[\"eval_f1\"]\n",
    "overfitting_pct = ((f1_train - f1_test) / f1_train) * 100 if f1_train != 0 else 0.0\n",
    "print(f\"\\nOverfitting basado en F1: {overfitting_pct:.2f}%\")\n",
    "\n",
    "def predecir_toxicidad(texto):\n",
    "    inputs = tokenizer(texto, return_tensors=\"pt\", truncation=True, padding=\"max_length\", max_length=128).to(device)\n",
    "    inputs = {k: v.to(device) for k, v in inputs.items()}\n",
    "\n",
    "    with torch.no_grad():\n",
    "        outputs = model(**inputs)\n",
    "    probs = outputs.logits.softmax(dim=1)[0].cpu().numpy()\n",
    "    print(f\"pred_toxico: {bool(probs[1] >= 0.5)}, prob_toxico: {round(float(probs[1]), 3)}, prob_no_toxico: {round(float(probs[0]), 3)}\")\n",
    "\n",
    "    return {\n",
    "        \"pred_toxico\": bool(probs[1] >= 0.5),\n",
    "        \"prob_toxico\": round(float(probs[1]), 3),\n",
    "        \"prob_no_toxico\": round(float(probs[0]), 3)\n",
    "\n",
    "    }\n",
    "\n",
    "print(predecir_toxicidad(\"You're a disgusting human.\"))"
   ]
  },
  {
   "cell_type": "markdown",
   "id": "070b1f7f",
   "metadata": {},
   "source": [
    "El modelo da buenas métricas pero 9% de overfitting. \n",
    "\n",
    "TODO: mejorar el overfitting."
   ]
  }
 ],
 "metadata": {
  "kernelspec": {
   "display_name": ".venv",
   "language": "python",
   "name": "python3"
  },
  "language_info": {
   "codemirror_mode": {
    "name": "ipython",
    "version": 3
   },
   "file_extension": ".py",
   "mimetype": "text/x-python",
   "name": "python",
   "nbconvert_exporter": "python",
   "pygments_lexer": "ipython3",
   "version": "3.13.3"
  }
 },
 "nbformat": 4,
 "nbformat_minor": 5
}
