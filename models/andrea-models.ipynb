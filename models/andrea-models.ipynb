{
 "cells": [
  {
   "cell_type": "markdown",
   "id": "0",
   "metadata": {},
   "source": [
    "# 🧼 Preprocesamiento y limpieza de texto\n",
    "\n",
    "Este notebook implementa un pipeline completo de preprocesamiento de texto\n",
    "específicamente diseñado para comentarios de YouTube basado en el EDA realizado.\n",
    "\n",
    "Basado en el análisis previo:\n",
    "- 1,000 comentarios con longitud promedio de 186 caracteres\n",
    "- 33.8 palabras promedio por comentario\n",
    "- 46.2% de comentarios tóxicos\n",
    "- Necesidad de limpieza específica para comentarios de redes sociales"
   ]
  },
  {
   "cell_type": "code",
   "execution_count": null,
   "id": "1",
   "metadata": {},
   "outputs": [],
   "source": [
    "import pandas as pd\n",
    "import numpy as np\n",
    "import re\n",
    "import string\n",
    "import warnings\n",
    "warnings.filterwarnings('ignore')\n",
    "\n",
    "# Librerías para procesamiento de texto\n",
    "import nltk\n",
    "import spacy\n",
    "from nltk.corpus import stopwords\n",
    "from nltk.tokenize import word_tokenize, sent_tokenize\n",
    "from nltk.stem import PorterStemmer, WordNetLemmatizer\n",
    "from nltk.chunk import ne_chunk\n",
    "from nltk.tag import pos_tag\n",
    "\n",
    "# Para manejo de URLs y HTML\n",
    "from urllib.parse import urlparse\n",
    "import html\n",
    "\n",
    "# Para visualización del progreso\n",
    "from tqdm import tqdm\n",
    "tqdm.pandas()"
   ]
  },
  {
   "cell_type": "code",
   "execution_count": null,
   "id": "2",
   "metadata": {},
   "outputs": [],
   "source": []
  }
 ],
 "metadata": {
  "kernelspec": {
   "display_name": ".venv",
   "language": "python",
   "name": "python3"
  },
  "language_info": {
   "name": "python",
   "version": "3.13.3"
  }
 },
 "nbformat": 4,
 "nbformat_minor": 5
}
