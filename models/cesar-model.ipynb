{
 "cells": [
  {
   "cell_type": "code",
   "execution_count": 2,
   "id": "0",
   "metadata": {},
   "outputs": [
    {
     "ename": "FileNotFoundError",
     "evalue": "[Errno 2] No such file or directory: '../data/youtoxic_english_1000.csv'",
     "output_type": "error",
     "traceback": [
      "\u001b[31m---------------------------------------------------------------------------\u001b[39m",
      "\u001b[31mFileNotFoundError\u001b[39m                         Traceback (most recent call last)",
      "\u001b[36mCell\u001b[39m\u001b[36m \u001b[39m\u001b[32mIn[2]\u001b[39m\u001b[32m, line 5\u001b[39m\n\u001b[32m      2\u001b[39m \u001b[38;5;28;01mimport\u001b[39;00m\u001b[38;5;250m \u001b[39m\u001b[34;01mmatplotlib\u001b[39;00m\u001b[34;01m.\u001b[39;00m\u001b[34;01mpyplot\u001b[39;00m\u001b[38;5;250m \u001b[39m\u001b[38;5;28;01mas\u001b[39;00m\u001b[38;5;250m \u001b[39m\u001b[34;01mplt\u001b[39;00m\n\u001b[32m      3\u001b[39m \u001b[38;5;28;01mimport\u001b[39;00m\u001b[38;5;250m \u001b[39m\u001b[34;01mseaborn\u001b[39;00m\u001b[38;5;250m \u001b[39m\u001b[38;5;28;01mas\u001b[39;00m\u001b[38;5;250m \u001b[39m\u001b[34;01msns\u001b[39;00m\n\u001b[32m----> \u001b[39m\u001b[32m5\u001b[39m df = \u001b[43mpd\u001b[49m\u001b[43m.\u001b[49m\u001b[43mread_csv\u001b[49m\u001b[43m(\u001b[49m\u001b[33;43m\"\u001b[39;49m\u001b[33;43m../data/youtoxic_english_1000.csv\u001b[39;49m\u001b[33;43m\"\u001b[39;49m\u001b[43m)\u001b[49m\n\u001b[32m      7\u001b[39m \u001b[38;5;28mprint\u001b[39m(\u001b[33mf\u001b[39m\u001b[33m\"\u001b[39m\u001b[33mFilas: \u001b[39m\u001b[38;5;132;01m{\u001b[39;00mdf.shape[\u001b[32m0\u001b[39m]\u001b[38;5;132;01m}\u001b[39;00m\u001b[33m, Columnas: \u001b[39m\u001b[38;5;132;01m{\u001b[39;00mdf.shape[\u001b[32m1\u001b[39m]\u001b[38;5;132;01m}\u001b[39;00m\u001b[33m\"\u001b[39m)\n\u001b[32m      8\u001b[39m df.head()\n",
      "\u001b[36mFile \u001b[39m\u001b[32mc:\\Users\\CésarMercado\\merkandez\\PX-G1\\.venv\\Lib\\site-packages\\pandas\\io\\parsers\\readers.py:1026\u001b[39m, in \u001b[36mread_csv\u001b[39m\u001b[34m(filepath_or_buffer, sep, delimiter, header, names, index_col, usecols, dtype, engine, converters, true_values, false_values, skipinitialspace, skiprows, skipfooter, nrows, na_values, keep_default_na, na_filter, verbose, skip_blank_lines, parse_dates, infer_datetime_format, keep_date_col, date_parser, date_format, dayfirst, cache_dates, iterator, chunksize, compression, thousands, decimal, lineterminator, quotechar, quoting, doublequote, escapechar, comment, encoding, encoding_errors, dialect, on_bad_lines, delim_whitespace, low_memory, memory_map, float_precision, storage_options, dtype_backend)\u001b[39m\n\u001b[32m   1013\u001b[39m kwds_defaults = _refine_defaults_read(\n\u001b[32m   1014\u001b[39m     dialect,\n\u001b[32m   1015\u001b[39m     delimiter,\n\u001b[32m   (...)\u001b[39m\u001b[32m   1022\u001b[39m     dtype_backend=dtype_backend,\n\u001b[32m   1023\u001b[39m )\n\u001b[32m   1024\u001b[39m kwds.update(kwds_defaults)\n\u001b[32m-> \u001b[39m\u001b[32m1026\u001b[39m \u001b[38;5;28;01mreturn\u001b[39;00m \u001b[43m_read\u001b[49m\u001b[43m(\u001b[49m\u001b[43mfilepath_or_buffer\u001b[49m\u001b[43m,\u001b[49m\u001b[43m \u001b[49m\u001b[43mkwds\u001b[49m\u001b[43m)\u001b[49m\n",
      "\u001b[36mFile \u001b[39m\u001b[32mc:\\Users\\CésarMercado\\merkandez\\PX-G1\\.venv\\Lib\\site-packages\\pandas\\io\\parsers\\readers.py:620\u001b[39m, in \u001b[36m_read\u001b[39m\u001b[34m(filepath_or_buffer, kwds)\u001b[39m\n\u001b[32m    617\u001b[39m _validate_names(kwds.get(\u001b[33m\"\u001b[39m\u001b[33mnames\u001b[39m\u001b[33m\"\u001b[39m, \u001b[38;5;28;01mNone\u001b[39;00m))\n\u001b[32m    619\u001b[39m \u001b[38;5;66;03m# Create the parser.\u001b[39;00m\n\u001b[32m--> \u001b[39m\u001b[32m620\u001b[39m parser = \u001b[43mTextFileReader\u001b[49m\u001b[43m(\u001b[49m\u001b[43mfilepath_or_buffer\u001b[49m\u001b[43m,\u001b[49m\u001b[43m \u001b[49m\u001b[43m*\u001b[49m\u001b[43m*\u001b[49m\u001b[43mkwds\u001b[49m\u001b[43m)\u001b[49m\n\u001b[32m    622\u001b[39m \u001b[38;5;28;01mif\u001b[39;00m chunksize \u001b[38;5;129;01mor\u001b[39;00m iterator:\n\u001b[32m    623\u001b[39m     \u001b[38;5;28;01mreturn\u001b[39;00m parser\n",
      "\u001b[36mFile \u001b[39m\u001b[32mc:\\Users\\CésarMercado\\merkandez\\PX-G1\\.venv\\Lib\\site-packages\\pandas\\io\\parsers\\readers.py:1620\u001b[39m, in \u001b[36mTextFileReader.__init__\u001b[39m\u001b[34m(self, f, engine, **kwds)\u001b[39m\n\u001b[32m   1617\u001b[39m     \u001b[38;5;28mself\u001b[39m.options[\u001b[33m\"\u001b[39m\u001b[33mhas_index_names\u001b[39m\u001b[33m\"\u001b[39m] = kwds[\u001b[33m\"\u001b[39m\u001b[33mhas_index_names\u001b[39m\u001b[33m\"\u001b[39m]\n\u001b[32m   1619\u001b[39m \u001b[38;5;28mself\u001b[39m.handles: IOHandles | \u001b[38;5;28;01mNone\u001b[39;00m = \u001b[38;5;28;01mNone\u001b[39;00m\n\u001b[32m-> \u001b[39m\u001b[32m1620\u001b[39m \u001b[38;5;28mself\u001b[39m._engine = \u001b[38;5;28;43mself\u001b[39;49m\u001b[43m.\u001b[49m\u001b[43m_make_engine\u001b[49m\u001b[43m(\u001b[49m\u001b[43mf\u001b[49m\u001b[43m,\u001b[49m\u001b[43m \u001b[49m\u001b[38;5;28;43mself\u001b[39;49m\u001b[43m.\u001b[49m\u001b[43mengine\u001b[49m\u001b[43m)\u001b[49m\n",
      "\u001b[36mFile \u001b[39m\u001b[32mc:\\Users\\CésarMercado\\merkandez\\PX-G1\\.venv\\Lib\\site-packages\\pandas\\io\\parsers\\readers.py:1880\u001b[39m, in \u001b[36mTextFileReader._make_engine\u001b[39m\u001b[34m(self, f, engine)\u001b[39m\n\u001b[32m   1878\u001b[39m     \u001b[38;5;28;01mif\u001b[39;00m \u001b[33m\"\u001b[39m\u001b[33mb\u001b[39m\u001b[33m\"\u001b[39m \u001b[38;5;129;01mnot\u001b[39;00m \u001b[38;5;129;01min\u001b[39;00m mode:\n\u001b[32m   1879\u001b[39m         mode += \u001b[33m\"\u001b[39m\u001b[33mb\u001b[39m\u001b[33m\"\u001b[39m\n\u001b[32m-> \u001b[39m\u001b[32m1880\u001b[39m \u001b[38;5;28mself\u001b[39m.handles = \u001b[43mget_handle\u001b[49m\u001b[43m(\u001b[49m\n\u001b[32m   1881\u001b[39m \u001b[43m    \u001b[49m\u001b[43mf\u001b[49m\u001b[43m,\u001b[49m\n\u001b[32m   1882\u001b[39m \u001b[43m    \u001b[49m\u001b[43mmode\u001b[49m\u001b[43m,\u001b[49m\n\u001b[32m   1883\u001b[39m \u001b[43m    \u001b[49m\u001b[43mencoding\u001b[49m\u001b[43m=\u001b[49m\u001b[38;5;28;43mself\u001b[39;49m\u001b[43m.\u001b[49m\u001b[43moptions\u001b[49m\u001b[43m.\u001b[49m\u001b[43mget\u001b[49m\u001b[43m(\u001b[49m\u001b[33;43m\"\u001b[39;49m\u001b[33;43mencoding\u001b[39;49m\u001b[33;43m\"\u001b[39;49m\u001b[43m,\u001b[49m\u001b[43m \u001b[49m\u001b[38;5;28;43;01mNone\u001b[39;49;00m\u001b[43m)\u001b[49m\u001b[43m,\u001b[49m\n\u001b[32m   1884\u001b[39m \u001b[43m    \u001b[49m\u001b[43mcompression\u001b[49m\u001b[43m=\u001b[49m\u001b[38;5;28;43mself\u001b[39;49m\u001b[43m.\u001b[49m\u001b[43moptions\u001b[49m\u001b[43m.\u001b[49m\u001b[43mget\u001b[49m\u001b[43m(\u001b[49m\u001b[33;43m\"\u001b[39;49m\u001b[33;43mcompression\u001b[39;49m\u001b[33;43m\"\u001b[39;49m\u001b[43m,\u001b[49m\u001b[43m \u001b[49m\u001b[38;5;28;43;01mNone\u001b[39;49;00m\u001b[43m)\u001b[49m\u001b[43m,\u001b[49m\n\u001b[32m   1885\u001b[39m \u001b[43m    \u001b[49m\u001b[43mmemory_map\u001b[49m\u001b[43m=\u001b[49m\u001b[38;5;28;43mself\u001b[39;49m\u001b[43m.\u001b[49m\u001b[43moptions\u001b[49m\u001b[43m.\u001b[49m\u001b[43mget\u001b[49m\u001b[43m(\u001b[49m\u001b[33;43m\"\u001b[39;49m\u001b[33;43mmemory_map\u001b[39;49m\u001b[33;43m\"\u001b[39;49m\u001b[43m,\u001b[49m\u001b[43m \u001b[49m\u001b[38;5;28;43;01mFalse\u001b[39;49;00m\u001b[43m)\u001b[49m\u001b[43m,\u001b[49m\n\u001b[32m   1886\u001b[39m \u001b[43m    \u001b[49m\u001b[43mis_text\u001b[49m\u001b[43m=\u001b[49m\u001b[43mis_text\u001b[49m\u001b[43m,\u001b[49m\n\u001b[32m   1887\u001b[39m \u001b[43m    \u001b[49m\u001b[43merrors\u001b[49m\u001b[43m=\u001b[49m\u001b[38;5;28;43mself\u001b[39;49m\u001b[43m.\u001b[49m\u001b[43moptions\u001b[49m\u001b[43m.\u001b[49m\u001b[43mget\u001b[49m\u001b[43m(\u001b[49m\u001b[33;43m\"\u001b[39;49m\u001b[33;43mencoding_errors\u001b[39;49m\u001b[33;43m\"\u001b[39;49m\u001b[43m,\u001b[49m\u001b[43m \u001b[49m\u001b[33;43m\"\u001b[39;49m\u001b[33;43mstrict\u001b[39;49m\u001b[33;43m\"\u001b[39;49m\u001b[43m)\u001b[49m\u001b[43m,\u001b[49m\n\u001b[32m   1888\u001b[39m \u001b[43m    \u001b[49m\u001b[43mstorage_options\u001b[49m\u001b[43m=\u001b[49m\u001b[38;5;28;43mself\u001b[39;49m\u001b[43m.\u001b[49m\u001b[43moptions\u001b[49m\u001b[43m.\u001b[49m\u001b[43mget\u001b[49m\u001b[43m(\u001b[49m\u001b[33;43m\"\u001b[39;49m\u001b[33;43mstorage_options\u001b[39;49m\u001b[33;43m\"\u001b[39;49m\u001b[43m,\u001b[49m\u001b[43m \u001b[49m\u001b[38;5;28;43;01mNone\u001b[39;49;00m\u001b[43m)\u001b[49m\u001b[43m,\u001b[49m\n\u001b[32m   1889\u001b[39m \u001b[43m\u001b[49m\u001b[43m)\u001b[49m\n\u001b[32m   1890\u001b[39m \u001b[38;5;28;01massert\u001b[39;00m \u001b[38;5;28mself\u001b[39m.handles \u001b[38;5;129;01mis\u001b[39;00m \u001b[38;5;129;01mnot\u001b[39;00m \u001b[38;5;28;01mNone\u001b[39;00m\n\u001b[32m   1891\u001b[39m f = \u001b[38;5;28mself\u001b[39m.handles.handle\n",
      "\u001b[36mFile \u001b[39m\u001b[32mc:\\Users\\CésarMercado\\merkandez\\PX-G1\\.venv\\Lib\\site-packages\\pandas\\io\\common.py:873\u001b[39m, in \u001b[36mget_handle\u001b[39m\u001b[34m(path_or_buf, mode, encoding, compression, memory_map, is_text, errors, storage_options)\u001b[39m\n\u001b[32m    868\u001b[39m \u001b[38;5;28;01melif\u001b[39;00m \u001b[38;5;28misinstance\u001b[39m(handle, \u001b[38;5;28mstr\u001b[39m):\n\u001b[32m    869\u001b[39m     \u001b[38;5;66;03m# Check whether the filename is to be opened in binary mode.\u001b[39;00m\n\u001b[32m    870\u001b[39m     \u001b[38;5;66;03m# Binary mode does not support 'encoding' and 'newline'.\u001b[39;00m\n\u001b[32m    871\u001b[39m     \u001b[38;5;28;01mif\u001b[39;00m ioargs.encoding \u001b[38;5;129;01mand\u001b[39;00m \u001b[33m\"\u001b[39m\u001b[33mb\u001b[39m\u001b[33m\"\u001b[39m \u001b[38;5;129;01mnot\u001b[39;00m \u001b[38;5;129;01min\u001b[39;00m ioargs.mode:\n\u001b[32m    872\u001b[39m         \u001b[38;5;66;03m# Encoding\u001b[39;00m\n\u001b[32m--> \u001b[39m\u001b[32m873\u001b[39m         handle = \u001b[38;5;28;43mopen\u001b[39;49m\u001b[43m(\u001b[49m\n\u001b[32m    874\u001b[39m \u001b[43m            \u001b[49m\u001b[43mhandle\u001b[49m\u001b[43m,\u001b[49m\n\u001b[32m    875\u001b[39m \u001b[43m            \u001b[49m\u001b[43mioargs\u001b[49m\u001b[43m.\u001b[49m\u001b[43mmode\u001b[49m\u001b[43m,\u001b[49m\n\u001b[32m    876\u001b[39m \u001b[43m            \u001b[49m\u001b[43mencoding\u001b[49m\u001b[43m=\u001b[49m\u001b[43mioargs\u001b[49m\u001b[43m.\u001b[49m\u001b[43mencoding\u001b[49m\u001b[43m,\u001b[49m\n\u001b[32m    877\u001b[39m \u001b[43m            \u001b[49m\u001b[43merrors\u001b[49m\u001b[43m=\u001b[49m\u001b[43merrors\u001b[49m\u001b[43m,\u001b[49m\n\u001b[32m    878\u001b[39m \u001b[43m            \u001b[49m\u001b[43mnewline\u001b[49m\u001b[43m=\u001b[49m\u001b[33;43m\"\u001b[39;49m\u001b[33;43m\"\u001b[39;49m\u001b[43m,\u001b[49m\n\u001b[32m    879\u001b[39m \u001b[43m        \u001b[49m\u001b[43m)\u001b[49m\n\u001b[32m    880\u001b[39m     \u001b[38;5;28;01melse\u001b[39;00m:\n\u001b[32m    881\u001b[39m         \u001b[38;5;66;03m# Binary mode\u001b[39;00m\n\u001b[32m    882\u001b[39m         handle = \u001b[38;5;28mopen\u001b[39m(handle, ioargs.mode)\n",
      "\u001b[31mFileNotFoundError\u001b[39m: [Errno 2] No such file or directory: '../data/youtoxic_english_1000.csv'"
     ]
    }
   ],
   "source": [
    "\n",
    "import pandas as pd\n",
    "import matplotlib.pyplot as plt\n",
    "import seaborn as sns\n",
    "\n",
    "df = pd.read_csv(\"../data/youtoxic_english_1000.csv\")\n",
    "\n",
    "print(f\"Filas: {df.shape[0]}, Columnas: {df.shape[1]}\")\n",
    "df.head()\n"
   ]
  },
  {
   "cell_type": "code",
   "execution_count": null,
   "id": "1",
   "metadata": {},
   "outputs": [],
   "source": [
    "# 1. Revisar columnas con solo ceros o sin representación significativa\n",
    "etiquetas = [\n",
    "    \"IsToxic\", \"IsAbusive\", \"IsThreat\", \"IsProvocative\", \"IsObscene\",\n",
    "    \"IsHatespeech\", \"IsRacist\", \"IsNationalist\", \"IsSexist\", \"IsHomophobic\",\n",
    "    \"IsReligiousHate\", \"IsRadicalism\"\n",
    "]\n",
    "\n",
    "# Mostrar cuántas veces aparece \"True\" en cada etiqueta\n",
    "print(\"Etiquetas activas:\")\n",
    "print(df[etiquetas].sum().sort_values())\n",
    "\n",
    "# 2. Eliminar columnas sin representación (sum == 0 o sum == 1)\n",
    "etiquetas_utiles = [col for col in etiquetas if df[col].sum() > 1]\n",
    "print(\"\\nEtiquetas que conservaremos:\", etiquetas_utiles)\n",
    "\n",
    "# 3. Eliminar columnas irrelevantes para el modelado\n",
    "columnas_irrelevantes = [\"CommentId\", \"VideoId\"]\n",
    "df.drop(columns=columnas_irrelevantes, inplace=True)\n",
    "\n",
    "# 4. (Opcional) Eliminar duplicados por texto\n",
    "df.drop_duplicates(subset=\"Text\", inplace=True)\n",
    "\n",
    "# 5. Dejar el DataFrame con solo las columnas útiles\n",
    "columnas_utiles = [\"Text\"] + etiquetas_utiles\n",
    "df = df[columnas_utiles]\n",
    "\n",
    "# 6. Confirmar\n",
    "print(f\"\\nDataset limpio → Filas: {df.shape[0]}, Columnas: {df.shape[1]}\")\n",
    "df.head()\n"
   ]
  },
  {
   "cell_type": "markdown",
   "id": "2",
   "metadata": {},
   "source": [
    "### Limpieza previa del dataset\n",
    "\n",
    "Antes de aplicar el preprocesamiento textual, revisamos las columnas del dataset:\n",
    "\n",
    "- Eliminamos etiquetas que **no tienen representación suficiente** (por ejemplo, `IsHomophobic`, `IsRadicalism`) ya que no aportarían valor al modelo.\n",
    "- Quitamos columnas irrelevantes como `CommentId` y `VideoId`.\n",
    "- Eliminamos posibles duplicados exactos en los comentarios (`Text`).\n",
    "\n",
    "Esto nos permite trabajar sobre un dataset más limpio, centrado en los comentarios y en las etiquetas que tienen información útil. De este modo, evitamos introducir ruido o clases vacías en el modelo.\n"
   ]
  },
  {
   "cell_type": "code",
   "execution_count": null,
   "id": "3",
   "metadata": {},
   "outputs": [],
   "source": [
    "import spacy\n",
    "import re\n",
    "\n",
    "# Cargar modelo de inglés\n",
    "nlp = spacy.load(\"en_core_web_sm\")\n",
    "\n",
    "# Función para limpiar y lematizar texto\n",
    "def preprocesar_texto(texto):\n",
    "    # 1. Eliminar URLs, símbolos especiales y números\n",
    "    texto = re.sub(r\"http\\S+|www\\S+|[^a-zA-Z\\s]\", \"\", texto.lower())\n",
    "    \n",
    "    # 2. Procesar con SpaCy\n",
    "    doc = nlp(texto)\n",
    "\n",
    "    # 3. Eliminar stopwords y obtener lemas\n",
    "    tokens_limpios = [token.lemma_ for token in doc if not token.is_stop and not token.is_punct]\n",
    "    \n",
    "    return \" \".join(tokens_limpios)\n"
   ]
  },
  {
   "cell_type": "code",
   "execution_count": null,
   "id": "4",
   "metadata": {},
   "outputs": [],
   "source": [
    "# Aplicar limpieza sobre una copia del texto\n",
    "df[\"CleanText\"] = df[\"Text\"].apply(preprocesar_texto)\n",
    "\n",
    "# Ver resultado en 3 ejemplos\n",
    "df[[\"Text\", \"CleanText\"]].sample(3)\n"
   ]
  },
  {
   "cell_type": "markdown",
   "id": "5",
   "metadata": {},
   "source": [
    "### Preprocesamiento del texto con SpaCy\n",
    "\n",
    "En este paso limpiamos y normalizamos los comentarios para que puedan ser procesados por modelos de machine learning. Para ello utilizamos **SpaCy**, una librería especializada en procesamiento de lenguaje natural.\n",
    "\n",
    "Nuestra función `preprocesar_texto()` realiza las siguientes tareas:\n",
    "\n",
    "1. **Elimina elementos innecesarios** del texto original:\n",
    "   - URLs, símbolos, números y puntuación.\n",
    "   - Convierte todo a minúsculas.\n",
    "\n",
    "2. **Tokeniza** (divide en palabras) y procesa cada palabra con SpaCy:\n",
    "   - Elimina las **palabras vacías** (*stopwords*) como \"the\", \"you\", \"and\".\n",
    "   - Obtiene la **forma base** (*lema*) de cada palabra, por ejemplo:\n",
    "     - \"running\" → \"run\"\n",
    "     - \"was\" → \"be\"\n",
    "     - \"better\" → \"good\"\n",
    "\n",
    "3. **Reconstruye el texto limpio**, que usaremos como entrada para vectorización y modelado.\n",
    "\n",
    "Este preprocesamiento mejora significativamente la calidad de las características que extraeremos del texto, ya que reduce el ruido y normaliza el lenguaje.\n"
   ]
  },
  {
   "cell_type": "code",
   "execution_count": null,
   "id": "6",
   "metadata": {},
   "outputs": [],
   "source": [
    "# Esto puede tardar unos segundos la primera vez (1.000 textos)\n",
    "df[\"CleanText\"] = df[\"Text\"].apply(preprocesar_texto)\n",
    "\n",
    "# Comprobar algunos ejemplos de texto original vs limpio\n",
    "df[[\"Text\", \"CleanText\"]].sample(5, random_state=42)\n"
   ]
  },
  {
   "cell_type": "code",
   "execution_count": null,
   "id": "7",
   "metadata": {},
   "outputs": [],
   "source": [
    "from sklearn.feature_extraction.text import CountVectorizer, TfidfVectorizer\n",
    "\n",
    "# Crear los vectorizadores\n",
    "vectorizer_bow = CountVectorizer(max_features=20)\n",
    "vectorizer_tfidf = TfidfVectorizer(max_features=20)\n",
    "\n",
    "# Aplicar sobre el texto limpio\n",
    "X_bow = vectorizer_bow.fit_transform(df[\"CleanText\"])\n",
    "X_tfidf = vectorizer_tfidf.fit_transform(df[\"CleanText\"])\n",
    "\n",
    "# Convertir a DataFrames para verlos\n",
    "df_bow = pd.DataFrame(X_bow.toarray(), columns=vectorizer_bow.get_feature_names_out())\n",
    "df_tfidf = pd.DataFrame(X_tfidf.toarray(), columns=vectorizer_tfidf.get_feature_names_out())\n",
    "\n",
    "# Mostrar las primeras filas de cada uno\n",
    "print(\"Bag of Words:\")\n",
    "display(df_bow.head())\n",
    "\n",
    "print(\"TF-IDF:\")\n",
    "display(df_tfidf.head())\n"
   ]
  },
  {
   "cell_type": "markdown",
   "id": "8",
   "metadata": {},
   "source": [
    "### Comparación entre Bag of Words y TF-IDF\n",
    "\n",
    "Ambas técnicas convierten texto en vectores numéricos, pero lo hacen de forma distinta:\n",
    "\n",
    "- **Bag of Words** simplemente cuenta cuántas veces aparece cada palabra.\n",
    "- **TF-IDF** ajusta esos conteos según la rareza de cada palabra en el conjunto total.\n",
    "\n",
    "#### ¿Qué vemos?\n",
    "- En BoW, los valores son enteros (frecuencias puras).\n",
    "- En TF-IDF, los valores son decimales → ajustados por importancia.\n",
    "- Palabras comunes (como \"people\") tendrán menos peso en TF-IDF si aparecen en casi todos los comentarios.\n",
    "\n",
    "Ambas representaciones son útiles, pero **TF-IDF suele funcionar mejor en clasificación** al eliminar ruido estadístico y destacar las palabras que verdaderamente diferencian un texto de otro.\n"
   ]
  },
  {
   "cell_type": "code",
   "execution_count": null,
   "id": "9",
   "metadata": {},
   "outputs": [],
   "source": [
    "print(\"🔤 Vocabulario BoW:\")\n",
    "print(vectorizer_bow.get_feature_names_out())\n",
    "\n",
    "print(\"\\n🔤 Vocabulario TF-IDF:\")\n",
    "print(vectorizer_tfidf.get_feature_names_out())\n"
   ]
  },
  {
   "cell_type": "code",
   "execution_count": null,
   "id": "10",
   "metadata": {},
   "outputs": [],
   "source": [
    "# Sparsity de BoW\n",
    "sparsity_bow = 1.0 - (X_bow.count_nonzero() / float(X_bow.shape[0] * X_bow.shape[1]))\n",
    "print(f\"Sparsity BoW: {sparsity_bow:.2%}\")\n",
    "\n",
    "# Sparsity de TF-IDF\n",
    "sparsity_tfidf = 1.0 - (X_tfidf.count_nonzero() / float(X_tfidf.shape[0] * X_tfidf.shape[1]))\n",
    "print(f\"Sparsity TF-IDF: {sparsity_tfidf:.2%}\")\n"
   ]
  },
  {
   "cell_type": "markdown",
   "id": "11",
   "metadata": {},
   "source": [
    "### Comparación de vocabulario y sparsity entre BoW y TF-IDF\n",
    "\n",
    "Después de aplicar las técnicas de vectorización, hemos comparado:\n",
    "\n",
    "#### El vocabulario generado\n",
    "Ambos métodos (`CountVectorizer` y `TfidfVectorizer`) seleccionaron las 20 palabras más frecuentes en el dataset. Estas palabras forman el **vocabulario base** sobre el cual se construyen los vectores numéricos de cada comentario.\n",
    "\n",
    "Aunque el vocabulario es el mismo en este caso (por usar `max_features=20`), las **frecuencias que asignan a cada palabra son diferentes**:\n",
    "\n",
    "#### Sparsity (dispersión de la matriz)\n",
    "Calculamos la **sparsity** de ambas matrices, es decir, el porcentaje de celdas con valor cero. El resultado fue:\n",
    "\n",
    "- Sparsity BoW: **90.52%**\n",
    "- Sparsity TF-IDF: **90.52%**\n",
    "\n",
    "Esto significa que más del 90% de los valores en ambas matrices son ceros, lo cual es normal en NLP cuando la mayoría de las palabras **no aparecen en la mayoría de los textos**. Aun así, este tipo de representación dispersa funciona bien en modelos de clasificación textual, especialmente con TF-IDF que reduce el ruido de palabras demasiado comunes.\n"
   ]
  },
  {
   "cell_type": "code",
   "execution_count": 3,
   "id": "3afc7c50",
   "metadata": {},
   "outputs": [
    {
     "ename": "NameError",
     "evalue": "name 'X_tfidf' is not defined",
     "output_type": "error",
     "traceback": [
      "\u001b[31m---------------------------------------------------------------------------\u001b[39m",
      "\u001b[31mNameError\u001b[39m                                 Traceback (most recent call last)",
      "\u001b[36mCell\u001b[39m\u001b[36m \u001b[39m\u001b[32mIn[3]\u001b[39m\u001b[32m, line 9\u001b[39m\n\u001b[32m      5\u001b[39m \u001b[38;5;28;01mimport\u001b[39;00m\u001b[38;5;250m \u001b[39m\u001b[34;01mmatplotlib\u001b[39;00m\u001b[34;01m.\u001b[39;00m\u001b[34;01mpyplot\u001b[39;00m\u001b[38;5;250m \u001b[39m\u001b[38;5;28;01mas\u001b[39;00m\u001b[38;5;250m \u001b[39m\u001b[34;01mplt\u001b[39;00m\n\u001b[32m      7\u001b[39m \u001b[38;5;66;03m# 1. Dividir datos en entrenamiento y test\u001b[39;00m\n\u001b[32m      8\u001b[39m X_train, X_test, y_train, y_test = train_test_split(\n\u001b[32m----> \u001b[39m\u001b[32m9\u001b[39m     \u001b[43mX_tfidf\u001b[49m, df[\u001b[33m\"\u001b[39m\u001b[33mIsToxic\u001b[39m\u001b[33m\"\u001b[39m], test_size=\u001b[32m0.2\u001b[39m, random_state=\u001b[32m42\u001b[39m\n\u001b[32m     10\u001b[39m )\n\u001b[32m     12\u001b[39m \u001b[38;5;66;03m# 2. Entrenar modelo base\u001b[39;00m\n\u001b[32m     13\u001b[39m modelo_lr = LogisticRegression(max_iter=\u001b[32m1000\u001b[39m)\n",
      "\u001b[31mNameError\u001b[39m: name 'X_tfidf' is not defined"
     ]
    }
   ],
   "source": [
    "from sklearn.model_selection import train_test_split\n",
    "from sklearn.linear_model import LogisticRegression\n",
    "from sklearn.metrics import classification_report, confusion_matrix, accuracy_score\n",
    "import seaborn as sns\n",
    "import matplotlib.pyplot as plt\n",
    "\n",
    "# 1. Dividir datos en entrenamiento y test\n",
    "X_train, X_test, y_train, y_test = train_test_split(\n",
    "    X_tfidf, df[\"IsToxic\"], test_size=0.2, random_state=42\n",
    ")\n",
    "\n",
    "# 2. Entrenar modelo base\n",
    "modelo_lr = LogisticRegression(max_iter=1000)\n",
    "modelo_lr.fit(X_train, y_train)\n",
    "\n",
    "# 3. Predecir sobre el conjunto de test\n",
    "y_pred = modelo_lr.predict(X_test)\n",
    "\n",
    "# 4. Métricas\n",
    "print(\"📊 Reporte de clasificación:\\n\")\n",
    "print(classification_report(y_test, y_pred, digits=3))\n",
    "\n",
    "# 5. Matriz de confusión\n",
    "cm = confusion_matrix(y_test, y_pred)\n",
    "plt.figure(figsize=(5, 4))\n",
    "sns.heatmap(cm, annot=True, fmt=\"d\", cmap=\"Blues\", xticklabels=[\"No Tóxico\", \"Tóxico\"], yticklabels=[\"No Tóxico\", \"Tóxico\"])\n",
    "plt.xlabel(\"Predicción\")\n",
    "plt.ylabel(\"Real\")\n",
    "plt.title(\"🔍 Matriz de Confusión - Logistic Regression\")\n",
    "plt.show()\n",
    "\n",
    "# 6. Accuracy global\n",
    "print(f\"✔️ Accuracy del modelo: {accuracy_score(y_test, y_pred):.2%}\")\n"
   ]
  },
  {
   "cell_type": "markdown",
   "id": "3de65219",
   "metadata": {},
   "source": [
    "### Primer modelo de clasificación con TF-IDF + Logistic Regression\n",
    "\n",
    "En esta celda hemos entrenado nuestro primer modelo de machine learning para detectar comentarios tóxicos utilizando el texto preprocesado y vectorizado con **TF-IDF**.\n",
    "\n",
    "#### ¿Qué hicimos?\n",
    "1. **División de datos**\n",
    "   - Separamos el dataset en un 80% para entrenamiento y 20% para prueba.\n",
    "   - Esto nos permite evaluar el modelo con ejemplos que nunca ha visto.\n",
    "\n",
    "2. **Entrenamiento**\n",
    "   - Usamos un modelo de regresión logística (`LogisticRegression`), ideal como punto de partida en clasificación binaria.\n",
    "\n",
    "3. **Evaluación**\n",
    "   - Calculamos métricas como **precisión, recall y F1-score** para ambas clases (`tóxico` y `no tóxico`).\n",
    "   - Generamos una **matriz de confusión** para visualizar los aciertos y errores del modelo.\n",
    "   - Mostramos el **accuracy general** del modelo.\n",
    "\n",
    "#### ¿Qué esperamos aquí?\n",
    "Este modelo es nuestra línea base (*baseline*). No se ha optimizado aún, pero ya nos permite:\n",
    "- Ver si el texto limpio y vectorizado con TF-IDF ofrece buena señal.\n",
    "- Identificar si el modelo tiene sesgos (por ejemplo, si falla mucho en detectar comentarios tóxicos).\n",
    "- Comparar en el futuro con modelos más complejos.\n",
    "\n",
    "Este paso marca el comienzo de la fase de modelado y nos da una primera medida de rendimiento que intentaremos superar con técnicas más avanzadas.\n"
   ]
  }
 ],
 "metadata": {
  "kernelspec": {
   "display_name": ".venv",
   "language": "python",
   "name": "python3"
  },
  "language_info": {
   "codemirror_mode": {
    "name": "ipython",
    "version": 3
   },
   "file_extension": ".py",
   "mimetype": "text/x-python",
   "name": "python",
   "nbconvert_exporter": "python",
   "pygments_lexer": "ipython3",
   "version": "3.12.3"
  }
 },
 "nbformat": 4,
 "nbformat_minor": 5
}
