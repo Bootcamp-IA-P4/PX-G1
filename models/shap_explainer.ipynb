{
 "cells": [
  {
   "cell_type": "markdown",
   "id": "0",
   "metadata": {},
   "source": [
    "# Interpretabilidad del modelo de detección de comentarios tóxicos\n",
    "\n",
    "Este análisis tiene como objetivo explicar de forma clara y visual cómo el modelo de clasificación de comentarios tóxicos toma sus decisiones.\n",
    "\n",
    "Utilizaremos la librería **SHAP** para interpretar los resultados del modelo. SHAP nos ayuda a entender qué palabras influyen más en que un comentario sea clasificado como tóxico o no.\n",
    "\n",
    "Este análisis está pensado para ser comprendido tanto por perfiles técnicos como no técnicos (stakeholders).\n"
   ]
  },
  {
   "cell_type": "code",
   "execution_count": null,
   "id": "1",
   "metadata": {},
   "outputs": [],
   "source": [
    "import joblib\n",
    "import shap\n",
    "import numpy as np\n",
    "\n",
    "# Cargamos modelo y vectorizador\n",
    "model = joblib.load(\"../final_model/modelo_toxicidad_xgboost_final.pkl\")\n",
    "vectorizer = joblib.load(\"../final_model/vectorizer_toxicidad_final.pkl\")\n",
    "\n",
    "# Comentarios de ejemplo\n",
    "comments = [\n",
    "    \"You're disgusting and stupid.\",          # tóxico\n",
    "    \"Thank you for this amazing explanation.\", # no tóxico\n",
    "    \"I don't think this was helpful at all.\"   # ambiguo\n",
    "]\n",
    "\n",
    "# Vectorizamos comentarios\n",
    "X = vectorizer.transform(comments)\n",
    "\n",
    "# Obtenemos los nombres reales de las features (tokens del vocabulario)\n",
    "feature_names = vectorizer.get_feature_names_out(); # Usamos TreeExplainer porque el modelo es un XGBoost basado en árboles\n",
    "# Convertimos la matriz TF-IDF a densa con .toarray(), que es lo que necesita SHAP\n",
    "explainer = shap.TreeExplainer(model)\n",
    "shap_values = explainer(X.toarray())  # X fue definido previamente como vectorizado de ejemplos; # Mostramos los tokens más influyentes a nivel global (positivo y negativo)\n",
    "shap.summary_plot(shap_values, X.toarray(), feature_names=feature_names)\n"
   ]
  },
  {
   "cell_type": "code",
   "execution_count": null,
   "id": "2",
   "metadata": {},
   "outputs": [],
   "source": [
    "# Creamos el explicador SHAP con nombres reales\n",
    "explainer = shap.Explainer(model, feature_names=feature_names)\n",
    "\n",
    "# Obtenemos valores SHAP para cada comentario vectorizado\n",
    "shap_values = explainer(X)\n"
   ]
  },
  {
   "cell_type": "markdown",
   "id": "3",
   "metadata": {},
   "source": [
    "## Explicabilidad global con SHAP\n",
    "\n",
    "Vamos a utilizar SHAP para entender qué palabras del vocabulario aprendido por el modelo tienen un mayor impacto, en promedio, al predecir toxicidad.\n",
    "\n",
    "El gráfico generado por `shap.summary_plot` muestra:\n",
    "\n",
    "- En el eje **x**, el valor SHAP medio de cada palabra (cuánto contribuye, en general, a aumentar o disminuir la probabilidad de toxicidad).\n",
    "- En el eje **y**, las palabras más influyentes (ordenadas de mayor a menor impacto).\n",
    "- **Cada punto** representa una aparición de esa palabra en algún comentario.\n",
    "- **El color** indica el valor del token en el comentario (alto = frecuente, bajo = poco frecuente).\n",
    "\n",
    "Este análisis es útil para identificar qué términos el modelo considera más tóxicos en general.\n"
   ]
  },
  {
   "cell_type": "code",
   "execution_count": null,
   "id": "4",
   "metadata": {},
   "outputs": [],
   "source": [
    "shap.plots.bar(shap_values)  # ✅ Ahora muestra los tokens correctamente\n"
   ]
  },
  {
   "cell_type": "markdown",
   "id": "5",
   "metadata": {},
   "source": [
    "## Explicabilidad global – resumen por importancia media\n",
    "\n",
    "Este gráfico de barras muestra las palabras que tienen **mayor impacto medio absoluto** sobre las predicciones del modelo. Es decir, aquellas que más influyen en general, independientemente de si ese impacto es positivo o negativo.\n",
    "\n",
    "- El valor numérico a la derecha de cada barra representa la **media del valor SHAP** absoluto de esa palabra.\n",
    "- A diferencia del gráfico anterior, **no se muestra la dispersión ni el color por valor**: este gráfico es útil para tener una visión rápida y priorizada de las palabras que más peso tienen en las decisiones del modelo.\n",
    "\n",
    "Este análisis ayuda a identificar qué tokens tienen mayor poder predictivo a lo largo de todo el conjunto de datos.\n"
   ]
  },
  {
   "cell_type": "markdown",
   "id": "6",
   "metadata": {},
   "source": [
    "## ⚠️ Reflexión crítica: posibles sesgos y asociaciones espurias\n",
    "\n",
    "Uno de los tokens destacados en los gráficos SHAP es **\"ferguson\"**. Aunque no es una palabra ofensiva en sí misma, aparece con una contribución media notable en las predicciones de toxicidad.\n",
    "\n",
    "Este caso es un ejemplo de lo que en aprendizaje automático se conoce como **asociación espuria**: el modelo ha aprendido que la palabra \"ferguson\" suele aparecer en comentarios tóxicos, no porque sea una palabra tóxica, sino por el contexto social o mediático en el que fue utilizada en el dataset original.\n",
    "\n",
    "Esto revela un posible **sesgo en los datos de entrenamiento**. Si no se revisa, el modelo podría clasificar como tóxicos comentarios informativos o respetuosos que simplemente mencionen ciertos temas o lugares sensibles.\n",
    "\n",
    "🔍 Este hallazgo justifica el uso de técnicas de interpretabilidad como **SHAP**, que nos permiten no solo entender cómo decide el modelo, sino también detectar y corregir errores, sesgos o asociaciones no deseadas.\n"
   ]
  },
  {
   "cell_type": "code",
   "execution_count": null,
   "id": "7",
   "metadata": {},
   "outputs": [],
   "source": [
    "import matplotlib.pyplot as plt\n",
    "\n",
    "# Comentario 1: Tóxico\n",
    "plt.figure()\n",
    "shap.plots.waterfall(shap_values[0], max_display=10, show=False)\n",
    "plt.title(\"Comentario 1 – Tóxico\", fontsize=14)\n",
    "plt.tight_layout()\n",
    "plt.show()\n",
    "\n",
    "# Comentario 2: No tóxico\n",
    "plt.figure()\n",
    "shap.plots.waterfall(shap_values[1], max_display=10, show=False)\n",
    "plt.title(\"Comentario 2 – No tóxico\", fontsize=14)\n",
    "plt.tight_layout()\n",
    "plt.show()\n",
    "\n"
   ]
  },
  {
   "cell_type": "markdown",
   "id": "8",
   "metadata": {},
   "source": [
    "## Ejemplos concretos: ¿Cómo decide el modelo en cada comentario?\n",
    "\n",
    "Los siguientes gráficos muestran cómo el modelo llega a su decisión en **dos casos reales**. Utilizamos la visualización tipo `waterfall` de SHAP, que descompone la predicción en contribuciones individuales de cada token:\n",
    "\n",
    "- 🔴 **Rojo**: palabras que empujan la predicción hacia **tóxico**\n",
    "- 🔵 **Azul**: palabras que empujan hacia **no tóxico**\n",
    "- `1·palabra` → la palabra está presente en el comentario\n",
    "- `0·palabra` → la palabra no aparece, pero SHAP estima su efecto si lo hiciera\n",
    "\n",
    "---\n",
    "\n",
    "### 🔴 Ejemplo 1 – Comentario clasificado como **tóxico**\n",
    "\n",
    "- La palabra **\"stupid\"** está presente y tiene un peso importante hacia la toxicidad.\n",
    "- El modelo interpreta este término como altamente ofensivo, y su presencia basta para elevar la predicción.\n",
    "- Los demás tokens tienen impacto bajo o nulo.\n",
    "\n",
    "---\n",
    "\n",
    "### 🔵 Ejemplo 2 – Comentario clasificado como **no tóxico**\n",
    "\n",
    "- Aunque el texto podría parecer una crítica o estar en un contexto delicado, no contiene insultos ni lenguaje violento.\n",
    "- El modelo mantiene la predicción baja y descarta la toxicidad.\n",
    "- Esto sugiere que el modelo distingue correctamente entre **contenido crítico** y **contenido ofensivo**.\n",
    "\n",
    "---\n",
    "\n",
    "Gracias a esta explicación local, podemos confirmar que:\n",
    "\n",
    "- El modelo no actúa como una caja negra: sus decisiones son rastreables y comprensibles.\n",
    "- Penaliza el uso explícito de lenguaje ofensivo, no los temas tratados.\n",
    "- SHAP nos permite validar que no hay sesgos evidentes en estos ejemplos, y que el modelo responde bien ante diferentes contextos.\n",
    "\n",
    "Estas visualizaciones refuerzan la confianza en el comportamiento del modelo y permiten detectar posibles errores antes de su despliegue.\n"
   ]
  },
  {
   "cell_type": "markdown",
   "id": "9",
   "metadata": {},
   "source": [
    "## Conclusiones finales y reflexión crítica\n",
    "\n",
    "Durante este análisis, hemos evaluado no solo el rendimiento del modelo de clasificación de toxicidad, sino también su **capacidad de toma de decisiones y los posibles sesgos presentes** en su razonamiento interno, gracias a la interpretabilidad con SHAP.\n",
    "\n",
    "A través de gráficos individuales (`waterfall`) y globales (`bar`), hemos podido identificar qué tokens tienen más peso en la toma de decisiones del modelo y cómo interactúan en diferentes tipos de comentarios (tóxicos y neutros).\n",
    "\n",
    "---\n",
    "\n",
    "### ¿Tiene sesgos nuestro modelo?\n",
    "\n",
    "**Sí, muestra indicios de sesgos contextuales aprendidos durante el entrenamiento**, aunque no siempre se traducen en clasificaciones erróneas.\n",
    "\n",
    "#### Justificación:\n",
    "\n",
    "- Palabras sensibles como `\"ferguson\"`, `\"cnn\"`, `\"black\"`, `\"african american\"`, `\"muslim\"`, etc. aparecen recurrentemente como tokens que **empujan hacia la predicción de toxicidad**, tanto en gráficos individuales como globales.\n",
    "\n",
    "- En algunos comentarios **objetivos y no ofensivos**, el modelo muestra una **probabilidad elevada de toxicidad**, lo que indica que asocia ciertas palabras a patrones aprendidos como \"tóxicos\", **sin tener en cuenta el tono real del comentario**.\n",
    "\n",
    "- Sin embargo, el modelo **no clasifica automáticamente como tóxicos** todos los comentarios que contienen esos términos. Esto sugiere que:\n",
    "\n",
    "  🔵 El modelo **no tiene un sesgo absoluto ni determinista**  \n",
    "  🔴 Pero sí ha aprendido **correlaciones espurias**  \n",
    "  _(Ejemplo: \"ferguson\" aparece en muchos comentarios tóxicos del dataset → el modelo lo aprende como indicador de toxicidad)_\n",
    "\n",
    "---\n",
    "\n",
    "### Conclusión crítica y valor añadido de SHAP\n",
    "\n",
    "Este análisis muestra que el modelo, aunque funcional, **refleja los sesgos latentes de los datos de entrenamiento**. Por ello:\n",
    "\n",
    "- **SHAP es fundamental no solo para explicar predicciones, sino también para auditar el modelo**\n",
    "- Detectar tokens con impacto indebido permite reflexionar sobre la necesidad de:\n",
    "  - Mejorar el dataset (más ejemplos neutrales con palabras sensibles)\n",
    "  - Aplicar técnicas de balanceo o filtrado semántico\n",
    "  - Incluir controles éticos antes de producción\n",
    "\n",
    "💡 En definitiva, este análisis no solo explica el \"qué\" del modelo, sino también el \"por qué\", y **abre la puerta a una mejora consciente y responsable de la IA aplicada al lenguaje.**\n"
   ]
  }
 ],
 "metadata": {
  "kernelspec": {
   "display_name": ".venv",
   "language": "python",
   "name": "python3"
  },
  "language_info": {
   "codemirror_mode": {
    "name": "ipython",
    "version": 3
   },
   "file_extension": ".py",
   "mimetype": "text/x-python",
   "name": "python",
   "nbconvert_exporter": "python",
   "pygments_lexer": "ipython3",
   "version": "3.12.4"
  }
 },
 "nbformat": 4,
 "nbformat_minor": 5
}
